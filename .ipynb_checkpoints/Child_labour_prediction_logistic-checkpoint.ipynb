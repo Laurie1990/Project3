{
 "cells": [
  {
   "cell_type": "markdown",
   "metadata": {},
   "source": [
    "# Set up and module installation"
   ]
  },
  {
   "cell_type": "code",
   "execution_count": 1,
   "metadata": {},
   "outputs": [],
   "source": [
    "%matplotlib inline\n",
    "import matplotlib.pyplot as plt\n",
    "import pandas as pd\n",
    "import os\n",
    "import seaborn as sns\n",
    "import statsmodels.api as sm"
   ]
  },
  {
   "cell_type": "code",
   "execution_count": 2,
   "metadata": {},
   "outputs": [],
   "source": [
    "#load our cleaned data in"
   ]
  },
  {
   "cell_type": "code",
   "execution_count": 3,
   "metadata": {},
   "outputs": [],
   "source": [
    "data_path = \"cleaned_data.csv\""
   ]
  },
  {
   "cell_type": "code",
   "execution_count": 4,
   "metadata": {},
   "outputs": [],
   "source": [
    "data = pd.read_csv(data_path)"
   ]
  },
  {
   "cell_type": "code",
   "execution_count": 5,
   "metadata": {},
   "outputs": [
    {
     "data": {
      "text/html": [
       "<div>\n",
       "<style scoped>\n",
       "    .dataframe tbody tr th:only-of-type {\n",
       "        vertical-align: middle;\n",
       "    }\n",
       "\n",
       "    .dataframe tbody tr th {\n",
       "        vertical-align: top;\n",
       "    }\n",
       "\n",
       "    .dataframe thead th {\n",
       "        text-align: right;\n",
       "    }\n",
       "</style>\n",
       "<table border=\"1\" class=\"dataframe\">\n",
       "  <thead>\n",
       "    <tr style=\"text-align: right;\">\n",
       "      <th></th>\n",
       "      <th>Unnamed: 0</th>\n",
       "      <th>hhid</th>\n",
       "      <th>year</th>\n",
       "      <th>region</th>\n",
       "      <th>femaleh</th>\n",
       "      <th>satth</th>\n",
       "      <th>hhsize</th>\n",
       "      <th>f0t6</th>\n",
       "      <th>m0t6</th>\n",
       "      <th>f7t12</th>\n",
       "      <th>...</th>\n",
       "      <th>Java and Bali</th>\n",
       "      <th>Kalimantan</th>\n",
       "      <th>Sulawesi</th>\n",
       "      <th>%work10t12</th>\n",
       "      <th>%work13t15</th>\n",
       "      <th>%work16t18</th>\n",
       "      <th>%work10t18_x</th>\n",
       "      <th>Childlabour_05</th>\n",
       "      <th>%work10t18_y</th>\n",
       "      <th>Childlabour_06</th>\n",
       "    </tr>\n",
       "  </thead>\n",
       "  <tbody>\n",
       "    <tr>\n",
       "      <th>0</th>\n",
       "      <td>0</td>\n",
       "      <td>1.201160e+11</td>\n",
       "      <td>2005</td>\n",
       "      <td>Sumatra</td>\n",
       "      <td>0</td>\n",
       "      <td>Primary</td>\n",
       "      <td>10</td>\n",
       "      <td>0.0</td>\n",
       "      <td>0.0</td>\n",
       "      <td>0.000000</td>\n",
       "      <td>...</td>\n",
       "      <td>0</td>\n",
       "      <td>0</td>\n",
       "      <td>0</td>\n",
       "      <td>0.0</td>\n",
       "      <td>0.0</td>\n",
       "      <td>0.000000</td>\n",
       "      <td>0.000000</td>\n",
       "      <td>0</td>\n",
       "      <td>0.00</td>\n",
       "      <td>0</td>\n",
       "    </tr>\n",
       "    <tr>\n",
       "      <th>1</th>\n",
       "      <td>1</td>\n",
       "      <td>1.201160e+11</td>\n",
       "      <td>2005</td>\n",
       "      <td>Sumatra</td>\n",
       "      <td>0</td>\n",
       "      <td>Primary</td>\n",
       "      <td>7</td>\n",
       "      <td>0.0</td>\n",
       "      <td>0.0</td>\n",
       "      <td>0.142857</td>\n",
       "      <td>...</td>\n",
       "      <td>0</td>\n",
       "      <td>0</td>\n",
       "      <td>0</td>\n",
       "      <td>0.0</td>\n",
       "      <td>0.0</td>\n",
       "      <td>0.000000</td>\n",
       "      <td>0.000000</td>\n",
       "      <td>0</td>\n",
       "      <td>0.25</td>\n",
       "      <td>1</td>\n",
       "    </tr>\n",
       "    <tr>\n",
       "      <th>2</th>\n",
       "      <td>2</td>\n",
       "      <td>1.201160e+11</td>\n",
       "      <td>2005</td>\n",
       "      <td>Sumatra</td>\n",
       "      <td>0</td>\n",
       "      <td>Primary</td>\n",
       "      <td>6</td>\n",
       "      <td>0.0</td>\n",
       "      <td>0.0</td>\n",
       "      <td>0.000000</td>\n",
       "      <td>...</td>\n",
       "      <td>0</td>\n",
       "      <td>0</td>\n",
       "      <td>0</td>\n",
       "      <td>0.0</td>\n",
       "      <td>0.0</td>\n",
       "      <td>0.166667</td>\n",
       "      <td>0.166667</td>\n",
       "      <td>1</td>\n",
       "      <td>0.00</td>\n",
       "      <td>0</td>\n",
       "    </tr>\n",
       "    <tr>\n",
       "      <th>3</th>\n",
       "      <td>3</td>\n",
       "      <td>1.202050e+11</td>\n",
       "      <td>2005</td>\n",
       "      <td>Sumatra</td>\n",
       "      <td>0</td>\n",
       "      <td>Primary</td>\n",
       "      <td>5</td>\n",
       "      <td>0.0</td>\n",
       "      <td>0.0</td>\n",
       "      <td>0.000000</td>\n",
       "      <td>...</td>\n",
       "      <td>0</td>\n",
       "      <td>0</td>\n",
       "      <td>0</td>\n",
       "      <td>0.0</td>\n",
       "      <td>0.0</td>\n",
       "      <td>0.200000</td>\n",
       "      <td>0.200000</td>\n",
       "      <td>1</td>\n",
       "      <td>0.20</td>\n",
       "      <td>1</td>\n",
       "    </tr>\n",
       "    <tr>\n",
       "      <th>4</th>\n",
       "      <td>4</td>\n",
       "      <td>1.202050e+11</td>\n",
       "      <td>2005</td>\n",
       "      <td>Sumatra</td>\n",
       "      <td>0</td>\n",
       "      <td>Primary</td>\n",
       "      <td>3</td>\n",
       "      <td>0.0</td>\n",
       "      <td>0.0</td>\n",
       "      <td>0.000000</td>\n",
       "      <td>...</td>\n",
       "      <td>0</td>\n",
       "      <td>0</td>\n",
       "      <td>0</td>\n",
       "      <td>0.0</td>\n",
       "      <td>0.0</td>\n",
       "      <td>0.000000</td>\n",
       "      <td>0.000000</td>\n",
       "      <td>0</td>\n",
       "      <td>0.00</td>\n",
       "      <td>0</td>\n",
       "    </tr>\n",
       "  </tbody>\n",
       "</table>\n",
       "<p>5 rows × 43 columns</p>\n",
       "</div>"
      ],
      "text/plain": [
       "   Unnamed: 0          hhid  year   region  femaleh    satth  hhsize  f0t6  \\\n",
       "0           0  1.201160e+11  2005  Sumatra        0  Primary      10   0.0   \n",
       "1           1  1.201160e+11  2005  Sumatra        0  Primary       7   0.0   \n",
       "2           2  1.201160e+11  2005  Sumatra        0  Primary       6   0.0   \n",
       "3           3  1.202050e+11  2005  Sumatra        0  Primary       5   0.0   \n",
       "4           4  1.202050e+11  2005  Sumatra        0  Primary       3   0.0   \n",
       "\n",
       "   m0t6     f7t12  ...  Java and Bali  Kalimantan  Sulawesi  %work10t12  \\\n",
       "0   0.0  0.000000  ...              0           0         0         0.0   \n",
       "1   0.0  0.142857  ...              0           0         0         0.0   \n",
       "2   0.0  0.000000  ...              0           0         0         0.0   \n",
       "3   0.0  0.000000  ...              0           0         0         0.0   \n",
       "4   0.0  0.000000  ...              0           0         0         0.0   \n",
       "\n",
       "   %work13t15  %work16t18  %work10t18_x  Childlabour_05  %work10t18_y  \\\n",
       "0         0.0    0.000000      0.000000               0          0.00   \n",
       "1         0.0    0.000000      0.000000               0          0.25   \n",
       "2         0.0    0.166667      0.166667               1          0.00   \n",
       "3         0.0    0.200000      0.200000               1          0.20   \n",
       "4         0.0    0.000000      0.000000               0          0.00   \n",
       "\n",
       "  Childlabour_06  \n",
       "0              0  \n",
       "1              1  \n",
       "2              0  \n",
       "3              1  \n",
       "4              0  \n",
       "\n",
       "[5 rows x 43 columns]"
      ]
     },
     "execution_count": 5,
     "metadata": {},
     "output_type": "execute_result"
    }
   ],
   "source": [
    "data.head()"
   ]
  },
  {
   "cell_type": "code",
   "execution_count": 6,
   "metadata": {},
   "outputs": [],
   "source": [
    "data=data.drop([\"Unnamed: 0\", \"%work10t18_y\", \"year\"], axis=1)"
   ]
  },
  {
   "cell_type": "code",
   "execution_count": 7,
   "metadata": {},
   "outputs": [
    {
     "data": {
      "text/html": [
       "<div>\n",
       "<style scoped>\n",
       "    .dataframe tbody tr th:only-of-type {\n",
       "        vertical-align: middle;\n",
       "    }\n",
       "\n",
       "    .dataframe tbody tr th {\n",
       "        vertical-align: top;\n",
       "    }\n",
       "\n",
       "    .dataframe thead th {\n",
       "        text-align: right;\n",
       "    }\n",
       "</style>\n",
       "<table border=\"1\" class=\"dataframe\">\n",
       "  <thead>\n",
       "    <tr style=\"text-align: right;\">\n",
       "      <th></th>\n",
       "      <th>hhid</th>\n",
       "      <th>region</th>\n",
       "      <th>femaleh</th>\n",
       "      <th>satth</th>\n",
       "      <th>hhsize</th>\n",
       "      <th>f0t6</th>\n",
       "      <th>m0t6</th>\n",
       "      <th>f7t12</th>\n",
       "      <th>m7t12</th>\n",
       "      <th>f13t15</th>\n",
       "      <th>...</th>\n",
       "      <th>Sumatra</th>\n",
       "      <th>Java and Bali</th>\n",
       "      <th>Kalimantan</th>\n",
       "      <th>Sulawesi</th>\n",
       "      <th>%work10t12</th>\n",
       "      <th>%work13t15</th>\n",
       "      <th>%work16t18</th>\n",
       "      <th>%work10t18_x</th>\n",
       "      <th>Childlabour_05</th>\n",
       "      <th>Childlabour_06</th>\n",
       "    </tr>\n",
       "  </thead>\n",
       "  <tbody>\n",
       "    <tr>\n",
       "      <th>0</th>\n",
       "      <td>1.201160e+11</td>\n",
       "      <td>Sumatra</td>\n",
       "      <td>0</td>\n",
       "      <td>Primary</td>\n",
       "      <td>10</td>\n",
       "      <td>0.0</td>\n",
       "      <td>0.0</td>\n",
       "      <td>0.000000</td>\n",
       "      <td>0.000000</td>\n",
       "      <td>0.100000</td>\n",
       "      <td>...</td>\n",
       "      <td>1</td>\n",
       "      <td>0</td>\n",
       "      <td>0</td>\n",
       "      <td>0</td>\n",
       "      <td>0.0</td>\n",
       "      <td>0.0</td>\n",
       "      <td>0.000000</td>\n",
       "      <td>0.000000</td>\n",
       "      <td>0</td>\n",
       "      <td>0</td>\n",
       "    </tr>\n",
       "    <tr>\n",
       "      <th>1</th>\n",
       "      <td>1.201160e+11</td>\n",
       "      <td>Sumatra</td>\n",
       "      <td>0</td>\n",
       "      <td>Primary</td>\n",
       "      <td>7</td>\n",
       "      <td>0.0</td>\n",
       "      <td>0.0</td>\n",
       "      <td>0.142857</td>\n",
       "      <td>0.000000</td>\n",
       "      <td>0.000000</td>\n",
       "      <td>...</td>\n",
       "      <td>1</td>\n",
       "      <td>0</td>\n",
       "      <td>0</td>\n",
       "      <td>0</td>\n",
       "      <td>0.0</td>\n",
       "      <td>0.0</td>\n",
       "      <td>0.000000</td>\n",
       "      <td>0.000000</td>\n",
       "      <td>0</td>\n",
       "      <td>1</td>\n",
       "    </tr>\n",
       "    <tr>\n",
       "      <th>2</th>\n",
       "      <td>1.201160e+11</td>\n",
       "      <td>Sumatra</td>\n",
       "      <td>0</td>\n",
       "      <td>Primary</td>\n",
       "      <td>6</td>\n",
       "      <td>0.0</td>\n",
       "      <td>0.0</td>\n",
       "      <td>0.000000</td>\n",
       "      <td>0.333333</td>\n",
       "      <td>0.166667</td>\n",
       "      <td>...</td>\n",
       "      <td>1</td>\n",
       "      <td>0</td>\n",
       "      <td>0</td>\n",
       "      <td>0</td>\n",
       "      <td>0.0</td>\n",
       "      <td>0.0</td>\n",
       "      <td>0.166667</td>\n",
       "      <td>0.166667</td>\n",
       "      <td>1</td>\n",
       "      <td>0</td>\n",
       "    </tr>\n",
       "    <tr>\n",
       "      <th>3</th>\n",
       "      <td>1.202050e+11</td>\n",
       "      <td>Sumatra</td>\n",
       "      <td>0</td>\n",
       "      <td>Primary</td>\n",
       "      <td>5</td>\n",
       "      <td>0.0</td>\n",
       "      <td>0.0</td>\n",
       "      <td>0.000000</td>\n",
       "      <td>0.000000</td>\n",
       "      <td>0.000000</td>\n",
       "      <td>...</td>\n",
       "      <td>1</td>\n",
       "      <td>0</td>\n",
       "      <td>0</td>\n",
       "      <td>0</td>\n",
       "      <td>0.0</td>\n",
       "      <td>0.0</td>\n",
       "      <td>0.200000</td>\n",
       "      <td>0.200000</td>\n",
       "      <td>1</td>\n",
       "      <td>1</td>\n",
       "    </tr>\n",
       "    <tr>\n",
       "      <th>4</th>\n",
       "      <td>1.202050e+11</td>\n",
       "      <td>Sumatra</td>\n",
       "      <td>0</td>\n",
       "      <td>Primary</td>\n",
       "      <td>3</td>\n",
       "      <td>0.0</td>\n",
       "      <td>0.0</td>\n",
       "      <td>0.000000</td>\n",
       "      <td>0.000000</td>\n",
       "      <td>0.000000</td>\n",
       "      <td>...</td>\n",
       "      <td>1</td>\n",
       "      <td>0</td>\n",
       "      <td>0</td>\n",
       "      <td>0</td>\n",
       "      <td>0.0</td>\n",
       "      <td>0.0</td>\n",
       "      <td>0.000000</td>\n",
       "      <td>0.000000</td>\n",
       "      <td>0</td>\n",
       "      <td>0</td>\n",
       "    </tr>\n",
       "  </tbody>\n",
       "</table>\n",
       "<p>5 rows × 40 columns</p>\n",
       "</div>"
      ],
      "text/plain": [
       "           hhid   region  femaleh    satth  hhsize  f0t6  m0t6     f7t12  \\\n",
       "0  1.201160e+11  Sumatra        0  Primary      10   0.0   0.0  0.000000   \n",
       "1  1.201160e+11  Sumatra        0  Primary       7   0.0   0.0  0.142857   \n",
       "2  1.201160e+11  Sumatra        0  Primary       6   0.0   0.0  0.000000   \n",
       "3  1.202050e+11  Sumatra        0  Primary       5   0.0   0.0  0.000000   \n",
       "4  1.202050e+11  Sumatra        0  Primary       3   0.0   0.0  0.000000   \n",
       "\n",
       "      m7t12    f13t15  ...  Sumatra  Java and Bali  Kalimantan  Sulawesi  \\\n",
       "0  0.000000  0.100000  ...        1              0           0         0   \n",
       "1  0.000000  0.000000  ...        1              0           0         0   \n",
       "2  0.333333  0.166667  ...        1              0           0         0   \n",
       "3  0.000000  0.000000  ...        1              0           0         0   \n",
       "4  0.000000  0.000000  ...        1              0           0         0   \n",
       "\n",
       "   %work10t12  %work13t15  %work16t18 %work10t18_x  Childlabour_05  \\\n",
       "0         0.0         0.0    0.000000     0.000000               0   \n",
       "1         0.0         0.0    0.000000     0.000000               0   \n",
       "2         0.0         0.0    0.166667     0.166667               1   \n",
       "3         0.0         0.0    0.200000     0.200000               1   \n",
       "4         0.0         0.0    0.000000     0.000000               0   \n",
       "\n",
       "   Childlabour_06  \n",
       "0               0  \n",
       "1               1  \n",
       "2               0  \n",
       "3               1  \n",
       "4               0  \n",
       "\n",
       "[5 rows x 40 columns]"
      ]
     },
     "execution_count": 7,
     "metadata": {},
     "output_type": "execute_result"
    }
   ],
   "source": [
    "data.head()"
   ]
  },
  {
   "cell_type": "markdown",
   "metadata": {},
   "source": [
    "# Data exploration"
   ]
  },
  {
   "cell_type": "code",
   "execution_count": 8,
   "metadata": {},
   "outputs": [
    {
     "data": {
      "text/plain": [
       "0    4094\n",
       "1     259\n",
       "Name: Childlabour_06, dtype: int64"
      ]
     },
     "execution_count": 8,
     "metadata": {},
     "output_type": "execute_result"
    }
   ],
   "source": [
    "#First let's get a look at the occurences of our target variable \"Childlabour_y\", \n",
    "#which is the occurence of child labour within a household in 2006\n",
    "data['Childlabour_06'].value_counts()"
   ]
  },
  {
   "cell_type": "code",
   "execution_count": 9,
   "metadata": {},
   "outputs": [
    {
     "data": {
      "image/png": "[encoded data removed]",
      "text/plain": [
       "<Figure size 432x288 with 1 Axes>"
      ]
     },
     "metadata": {
      "needs_background": "light"
     },
     "output_type": "display_data"
    }
   ],
   "source": [
    "sns.countplot(x=\"Childlabour_06\", data=data, palette='hls')\n",
    "plt.show()"
   ]
  },
  {
   "cell_type": "code",
   "execution_count": 10,
   "metadata": {},
   "outputs": [],
   "source": [
    "#Some further exploration of our explanatory variables from 2005. We will change the default display setting so we can see all the columns"
   ]
  },
  {
   "cell_type": "code",
   "execution_count": 11,
   "metadata": {},
   "outputs": [
    {
     "data": {
      "text/html": [
       "<div>\n",
       "<style scoped>\n",
       "    .dataframe tbody tr th:only-of-type {\n",
       "        vertical-align: middle;\n",
       "    }\n",
       "\n",
       "    .dataframe tbody tr th {\n",
       "        vertical-align: top;\n",
       "    }\n",
       "\n",
       "    .dataframe thead th {\n",
       "        text-align: right;\n",
       "    }\n",
       "</style>\n",
       "<table border=\"1\" class=\"dataframe\">\n",
       "  <thead>\n",
       "    <tr style=\"text-align: right;\">\n",
       "      <th></th>\n",
       "      <th>hhid</th>\n",
       "      <th>femaleh</th>\n",
       "      <th>hhsize</th>\n",
       "      <th>f0t6</th>\n",
       "      <th>m0t6</th>\n",
       "      <th>f7t12</th>\n",
       "      <th>m7t12</th>\n",
       "      <th>f13t15</th>\n",
       "      <th>f16t18</th>\n",
       "      <th>f19t60</th>\n",
       "      <th>m13t15</th>\n",
       "      <th>m16t18</th>\n",
       "      <th>m19t60</th>\n",
       "      <th>f61</th>\n",
       "      <th>m61</th>\n",
       "      <th>rural</th>\n",
       "      <th>No education</th>\n",
       "      <th>Primary</th>\n",
       "      <th>Junior secondary</th>\n",
       "      <th>Senior secondary</th>\n",
       "      <th>Higher</th>\n",
       "      <th>Quintile 1</th>\n",
       "      <th>Quintile 2</th>\n",
       "      <th>Quintile 3</th>\n",
       "      <th>Quintile 4</th>\n",
       "      <th>Quintile 5</th>\n",
       "      <th>Other islands</th>\n",
       "      <th>Sumatra</th>\n",
       "      <th>Java and Bali</th>\n",
       "      <th>Kalimantan</th>\n",
       "      <th>Sulawesi</th>\n",
       "      <th>%work10t12</th>\n",
       "      <th>%work13t15</th>\n",
       "      <th>%work16t18</th>\n",
       "      <th>%work10t18_x</th>\n",
       "      <th>Childlabour_05</th>\n",
       "    </tr>\n",
       "    <tr>\n",
       "      <th>Childlabour_06</th>\n",
       "      <th></th>\n",
       "      <th></th>\n",
       "      <th></th>\n",
       "      <th></th>\n",
       "      <th></th>\n",
       "      <th></th>\n",
       "      <th></th>\n",
       "      <th></th>\n",
       "      <th></th>\n",
       "      <th></th>\n",
       "      <th></th>\n",
       "      <th></th>\n",
       "      <th></th>\n",
       "      <th></th>\n",
       "      <th></th>\n",
       "      <th></th>\n",
       "      <th></th>\n",
       "      <th></th>\n",
       "      <th></th>\n",
       "      <th></th>\n",
       "      <th></th>\n",
       "      <th></th>\n",
       "      <th></th>\n",
       "      <th></th>\n",
       "      <th></th>\n",
       "      <th></th>\n",
       "      <th></th>\n",
       "      <th></th>\n",
       "      <th></th>\n",
       "      <th></th>\n",
       "      <th></th>\n",
       "      <th></th>\n",
       "      <th></th>\n",
       "      <th></th>\n",
       "      <th></th>\n",
       "      <th></th>\n",
       "    </tr>\n",
       "  </thead>\n",
       "  <tbody>\n",
       "    <tr>\n",
       "      <th>0</th>\n",
       "      <td>3.834389e+11</td>\n",
       "      <td>0.097215</td>\n",
       "      <td>4.008549</td>\n",
       "      <td>0.056587</td>\n",
       "      <td>0.060691</td>\n",
       "      <td>0.061651</td>\n",
       "      <td>0.064718</td>\n",
       "      <td>0.023325</td>\n",
       "      <td>0.023116</td>\n",
       "      <td>0.304007</td>\n",
       "      <td>0.022509</td>\n",
       "      <td>0.020775</td>\n",
       "      <td>0.290588</td>\n",
       "      <td>0.047240</td>\n",
       "      <td>0.040535</td>\n",
       "      <td>0.523205</td>\n",
       "      <td>0.242794</td>\n",
       "      <td>0.325110</td>\n",
       "      <td>0.141915</td>\n",
       "      <td>0.223009</td>\n",
       "      <td>0.067171</td>\n",
       "      <td>0.125794</td>\n",
       "      <td>0.174890</td>\n",
       "      <td>0.202736</td>\n",
       "      <td>0.235711</td>\n",
       "      <td>0.260870</td>\n",
       "      <td>0.071568</td>\n",
       "      <td>0.203468</td>\n",
       "      <td>0.562042</td>\n",
       "      <td>0.089888</td>\n",
       "      <td>0.073034</td>\n",
       "      <td>0.000334</td>\n",
       "      <td>0.002041</td>\n",
       "      <td>0.009074</td>\n",
       "      <td>0.011449</td>\n",
       "      <td>0.050073</td>\n",
       "    </tr>\n",
       "    <tr>\n",
       "      <th>1</th>\n",
       "      <td>4.250288e+11</td>\n",
       "      <td>0.096525</td>\n",
       "      <td>5.034749</td>\n",
       "      <td>0.042039</td>\n",
       "      <td>0.039635</td>\n",
       "      <td>0.080732</td>\n",
       "      <td>0.068507</td>\n",
       "      <td>0.055254</td>\n",
       "      <td>0.050418</td>\n",
       "      <td>0.252939</td>\n",
       "      <td>0.064658</td>\n",
       "      <td>0.073946</td>\n",
       "      <td>0.250106</td>\n",
       "      <td>0.016518</td>\n",
       "      <td>0.022670</td>\n",
       "      <td>0.694981</td>\n",
       "      <td>0.316602</td>\n",
       "      <td>0.436293</td>\n",
       "      <td>0.127413</td>\n",
       "      <td>0.081081</td>\n",
       "      <td>0.038610</td>\n",
       "      <td>0.262548</td>\n",
       "      <td>0.220077</td>\n",
       "      <td>0.181467</td>\n",
       "      <td>0.150579</td>\n",
       "      <td>0.185328</td>\n",
       "      <td>0.092664</td>\n",
       "      <td>0.212355</td>\n",
       "      <td>0.432432</td>\n",
       "      <td>0.146718</td>\n",
       "      <td>0.115830</td>\n",
       "      <td>0.004413</td>\n",
       "      <td>0.036275</td>\n",
       "      <td>0.076097</td>\n",
       "      <td>0.116785</td>\n",
       "      <td>0.455598</td>\n",
       "    </tr>\n",
       "  </tbody>\n",
       "</table>\n",
       "</div>"
      ],
      "text/plain": [
       "                        hhid   femaleh    hhsize      f0t6      m0t6  \\\n",
       "Childlabour_06                                                         \n",
       "0               3.834389e+11  0.097215  4.008549  0.056587  0.060691   \n",
       "1               4.250288e+11  0.096525  5.034749  0.042039  0.039635   \n",
       "\n",
       "                   f7t12     m7t12    f13t15    f16t18    f19t60    m13t15  \\\n",
       "Childlabour_06                                                               \n",
       "0               0.061651  0.064718  0.023325  0.023116  0.304007  0.022509   \n",
       "1               0.080732  0.068507  0.055254  0.050418  0.252939  0.064658   \n",
       "\n",
       "                  m16t18    m19t60       f61       m61     rural  \\\n",
       "Childlabour_06                                                     \n",
       "0               0.020775  0.290588  0.047240  0.040535  0.523205   \n",
       "1               0.073946  0.250106  0.016518  0.022670  0.694981   \n",
       "\n",
       "                No education   Primary  Junior secondary  Senior secondary  \\\n",
       "Childlabour_06                                                               \n",
       "0                   0.242794  0.325110          0.141915          0.223009   \n",
       "1                   0.316602  0.436293          0.127413          0.081081   \n",
       "\n",
       "                  Higher  Quintile 1  Quintile 2  Quintile 3  Quintile 4  \\\n",
       "Childlabour_06                                                             \n",
       "0               0.067171    0.125794    0.174890    0.202736    0.235711   \n",
       "1               0.038610    0.262548    0.220077    0.181467    0.150579   \n",
       "\n",
       "                Quintile 5  Other islands   Sumatra  Java and Bali  \\\n",
       "Childlabour_06                                                       \n",
       "0                 0.260870       0.071568  0.203468       0.562042   \n",
       "1                 0.185328       0.092664  0.212355       0.432432   \n",
       "\n",
       "                Kalimantan  Sulawesi  %work10t12  %work13t15  %work16t18  \\\n",
       "Childlabour_06                                                             \n",
       "0                 0.089888  0.073034    0.000334    0.002041    0.009074   \n",
       "1                 0.146718  0.115830    0.004413    0.036275    0.076097   \n",
       "\n",
       "                %work10t18_x  Childlabour_05  \n",
       "Childlabour_06                                \n",
       "0                   0.011449        0.050073  \n",
       "1                   0.116785        0.455598  "
      ]
     },
     "metadata": {},
     "output_type": "display_data"
    }
   ],
   "source": [
    "with pd.option_context('display.max_rows', 5, 'display.max_columns', None): \n",
    "    display(data.groupby(\"Childlabour_06\").mean())"
   ]
  },
  {
   "cell_type": "code",
   "execution_count": 12,
   "metadata": {},
   "outputs": [],
   "source": [
    "#Worth noting that households with childlabour in 2006 showed the following traits:\n",
    "#slightly larger household sizes (average of 5 vs 4 household members).\n",
    "#were more likely to be rural (69% for child labour households, 52% of non-child labour households)\n",
    "#more likely to have lower education levels (approx 75% have primary school or none)\n",
    "#were more likely to fall into the lower income quartiles (48% were quintile 2 or lower)\n",
    "#more likely to occur in poorer regions such as Kalimantan and Sulawesi, as opposed to wealthier regions such as Java or Bali"
   ]
  },
  {
   "cell_type": "code",
   "execution_count": 13,
   "metadata": {},
   "outputs": [
    {
     "data": {
      "text/plain": [
       "Text(0, 0.5, 'Proportion of households with child labour')"
      ]
     },
     "execution_count": 13,
     "metadata": {},
     "output_type": "execute_result"
    },
    {
     "data": {
      "image/png": "[encoded data removed]",
      "text/plain": [
       "<Figure size 432x288 with 1 Axes>"
      ]
     },
     "metadata": {
      "needs_background": "light"
     },
     "output_type": "display_data"
    }
   ],
   "source": [
    "table=pd.crosstab(data.satth, data.Childlabour_06)\n",
    "table.div(table.sum(1).astype(float), axis=0).plot(kind='bar', stacked=True)\n",
    "plt.title('Household education level vs child labour participation')\n",
    "plt.xlabel('ousehold education level')\n",
    "plt.ylabel('Proportion of households with child labour')"
   ]
  },
  {
   "cell_type": "code",
   "execution_count": 14,
   "metadata": {},
   "outputs": [
    {
     "data": {
      "text/plain": [
       "Text(0, 0.5, 'Proportion of households with child labour')"
      ]
     },
     "execution_count": 14,
     "metadata": {},
     "output_type": "execute_result"
    },
    {
     "data": {
      "image/png": "[encoded data removed]",
      "text/plain": [
       "<Figure size 432x288 with 1 Axes>"
      ]
     },
     "metadata": {
      "needs_background": "light"
     },
     "output_type": "display_data"
    }
   ],
   "source": [
    "table=pd.crosstab(data.rural, data.Childlabour_06)\n",
    "table.div(table.sum(1).astype(float), axis=0).plot(kind='bar', stacked=True)\n",
    "plt.title('Rural (1) and urban households vs child labour participation')\n",
    "plt.xlabel('Rural (1) or Urban (0)')\n",
    "plt.ylabel('Proportion of households with child labour')"
   ]
  },
  {
   "cell_type": "code",
   "execution_count": 15,
   "metadata": {},
   "outputs": [
    {
     "data": {
      "text/plain": [
       "Text(0, 0.5, 'Proportion of households with child labour')"
      ]
     },
     "execution_count": 15,
     "metadata": {},
     "output_type": "execute_result"
    },
    {
     "data": {
      "image/png": "[encoded data removed]",
      "text/plain": [
       "<Figure size 432x288 with 1 Axes>"
      ]
     },
     "metadata": {
      "needs_background": "light"
     },
     "output_type": "display_data"
    }
   ],
   "source": [
    "table=pd.crosstab(data.femaleh, data.Childlabour_06)\n",
    "table.div(table.sum(1).astype(float), axis=0).plot(kind='bar', stacked=True)\n",
    "plt.title('Female headed households (1) vs child labour participation')\n",
    "plt.xlabel('Female headed household (1) or not (0)')\n",
    "plt.ylabel('Proportion of households with child labour')"
   ]
  },
  {
   "cell_type": "markdown",
   "metadata": {},
   "source": [
    "# Specify model and split data"
   ]
  },
  {
   "cell_type": "code",
   "execution_count": 16,
   "metadata": {},
   "outputs": [
    {
     "name": "stdout",
     "output_type": "stream",
     "text": [
      "(4353, 32) (4353,)\n"
     ]
    }
   ],
   "source": [
    "# Assign X (data) and y (target)\n",
    "X = data.drop([\"Childlabour_06\", \"region\", \"quint\", \"satth\", \"Higher\", \"Quintile 5\", \"Other islands\", \"hhid\"], axis=1)\n",
    "y = data[\"Childlabour_06\"]\n",
    "print(X.shape, y.shape)"
   ]
  },
  {
   "cell_type": "code",
   "execution_count": 17,
   "metadata": {},
   "outputs": [],
   "source": [
    "#Split our data into training and testing"
   ]
  },
  {
   "cell_type": "code",
   "execution_count": 18,
   "metadata": {},
   "outputs": [],
   "source": [
    "from sklearn.model_selection import train_test_split"
   ]
  },
  {
   "cell_type": "code",
   "execution_count": 19,
   "metadata": {},
   "outputs": [],
   "source": [
    "X_train, X_test, y_train, y_test = train_test_split(X, y, random_state=1)"
   ]
  },
  {
   "cell_type": "code",
   "execution_count": 30,
   "metadata": {},
   "outputs": [
    {
     "data": {
      "text/plain": [
       "pandas.core.frame.DataFrame"
      ]
     },
     "execution_count": 30,
     "metadata": {},
     "output_type": "execute_result"
    }
   ],
   "source": [
    "type(X_test)"
   ]
  },
  {
   "cell_type": "code",
   "execution_count": 31,
   "metadata": {},
   "outputs": [
    {
     "data": {
      "text/plain": [
       "(1089, 32)"
      ]
     },
     "execution_count": 31,
     "metadata": {},
     "output_type": "execute_result"
    }
   ],
   "source": [
    "X_test.shape"
   ]
  },
  {
   "cell_type": "code",
   "execution_count": 32,
   "metadata": {},
   "outputs": [
    {
     "data": {
      "text/plain": [
       "(3264, 32)"
      ]
     },
     "execution_count": 32,
     "metadata": {},
     "output_type": "execute_result"
    }
   ],
   "source": [
    "X_train.shape"
   ]
  },
  {
   "cell_type": "code",
   "execution_count": 20,
   "metadata": {},
   "outputs": [
    {
     "data": {
      "text/plain": [
       "LogisticRegression(max_iter=10000)"
      ]
     },
     "execution_count": 20,
     "metadata": {},
     "output_type": "execute_result"
    }
   ],
   "source": [
    "from sklearn.linear_model import LogisticRegression\n",
    "classifier = LogisticRegression(max_iter = 10000)\n",
    "classifier"
   ]
  },
  {
   "cell_type": "code",
   "execution_count": 21,
   "metadata": {},
   "outputs": [],
   "source": [
    "#Fit (train) or model using the training data"
   ]
  },
  {
   "cell_type": "code",
   "execution_count": 22,
   "metadata": {},
   "outputs": [
    {
     "data": {
      "text/plain": [
       "LogisticRegression(max_iter=10000)"
      ]
     },
     "execution_count": 22,
     "metadata": {},
     "output_type": "execute_result"
    }
   ],
   "source": [
    "classifier.fit(X_train, y_train)"
   ]
  },
  {
   "cell_type": "markdown",
   "metadata": {},
   "source": [
    "# Check model fit"
   ]
  },
  {
   "cell_type": "code",
   "execution_count": 23,
   "metadata": {},
   "outputs": [
    {
     "name": "stdout",
     "output_type": "stream",
     "text": [
      "Training Data Score: 0.9424019607843137\n",
      "Testing Data Score: 0.9393939393939394\n"
     ]
    }
   ],
   "source": [
    "print(f\"Training Data Score: {classifier.score(X_train, y_train)}\")\n",
    "print(f\"Testing Data Score: {classifier.score(X_test, y_test)}\")"
   ]
  },
  {
   "cell_type": "code",
   "execution_count": 24,
   "metadata": {},
   "outputs": [
    {
     "name": "stdout",
     "output_type": "stream",
     "text": [
      "First 10 Predictions:   [0 0 0 0 0 0 0 0 0 0]\n",
      "First 10 Actual labels: [0, 0, 0, 0, 0, 0, 0, 0, 0, 0]\n"
     ]
    }
   ],
   "source": [
    "predictions = classifier.predict(X_test)\n",
    "print(f\"First 10 Predictions:   {predictions[:10]}\")\n",
    "print(f\"First 10 Actual labels: {y_test[:10].tolist()}\")"
   ]
  },
  {
   "cell_type": "code",
   "execution_count": 25,
   "metadata": {},
   "outputs": [
    {
     "data": {
      "text/html": [
       "<div>\n",
       "<style scoped>\n",
       "    .dataframe tbody tr th:only-of-type {\n",
       "        vertical-align: middle;\n",
       "    }\n",
       "\n",
       "    .dataframe tbody tr th {\n",
       "        vertical-align: top;\n",
       "    }\n",
       "\n",
       "    .dataframe thead th {\n",
       "        text-align: right;\n",
       "    }\n",
       "</style>\n",
       "<table border=\"1\" class=\"dataframe\">\n",
       "  <thead>\n",
       "    <tr style=\"text-align: right;\">\n",
       "      <th></th>\n",
       "      <th>Prediction</th>\n",
       "      <th>Actual</th>\n",
       "    </tr>\n",
       "  </thead>\n",
       "  <tbody>\n",
       "    <tr>\n",
       "      <th>0</th>\n",
       "      <td>0</td>\n",
       "      <td>0</td>\n",
       "    </tr>\n",
       "    <tr>\n",
       "      <th>1</th>\n",
       "      <td>0</td>\n",
       "      <td>0</td>\n",
       "    </tr>\n",
       "    <tr>\n",
       "      <th>2</th>\n",
       "      <td>0</td>\n",
       "      <td>0</td>\n",
       "    </tr>\n",
       "    <tr>\n",
       "      <th>3</th>\n",
       "      <td>0</td>\n",
       "      <td>0</td>\n",
       "    </tr>\n",
       "    <tr>\n",
       "      <th>4</th>\n",
       "      <td>0</td>\n",
       "      <td>0</td>\n",
       "    </tr>\n",
       "    <tr>\n",
       "      <th>...</th>\n",
       "      <td>...</td>\n",
       "      <td>...</td>\n",
       "    </tr>\n",
       "    <tr>\n",
       "      <th>1084</th>\n",
       "      <td>0</td>\n",
       "      <td>0</td>\n",
       "    </tr>\n",
       "    <tr>\n",
       "      <th>1085</th>\n",
       "      <td>0</td>\n",
       "      <td>1</td>\n",
       "    </tr>\n",
       "    <tr>\n",
       "      <th>1086</th>\n",
       "      <td>0</td>\n",
       "      <td>0</td>\n",
       "    </tr>\n",
       "    <tr>\n",
       "      <th>1087</th>\n",
       "      <td>0</td>\n",
       "      <td>0</td>\n",
       "    </tr>\n",
       "    <tr>\n",
       "      <th>1088</th>\n",
       "      <td>0</td>\n",
       "      <td>0</td>\n",
       "    </tr>\n",
       "  </tbody>\n",
       "</table>\n",
       "<p>1089 rows × 2 columns</p>\n",
       "</div>"
      ],
      "text/plain": [
       "      Prediction  Actual\n",
       "0              0       0\n",
       "1              0       0\n",
       "2              0       0\n",
       "3              0       0\n",
       "4              0       0\n",
       "...          ...     ...\n",
       "1084           0       0\n",
       "1085           0       1\n",
       "1086           0       0\n",
       "1087           0       0\n",
       "1088           0       0\n",
       "\n",
       "[1089 rows x 2 columns]"
      ]
     },
     "execution_count": 25,
     "metadata": {},
     "output_type": "execute_result"
    }
   ],
   "source": [
    "pd.DataFrame({\"Prediction\": predictions, \"Actual\": y_test}).reset_index(drop=True)"
   ]
  },
  {
   "cell_type": "code",
   "execution_count": 26,
   "metadata": {},
   "outputs": [
    {
     "name": "stdout",
     "output_type": "stream",
     "text": [
      "Optimization terminated successfully.\n",
      "         Current function value: 0.172003\n",
      "         Iterations 9\n",
      "                                  Results: Logit\n",
      "==================================================================================\n",
      "Model:                     Logit                 Pseudo R-squared:      0.238     \n",
      "Dependent Variable:        Childlabour_06        AIC:                   1559.4618 \n",
      "Date:                      2020-10-20 00:16      BIC:                   1757.1991 \n",
      "No. Observations:          4353                  Log-Likelihood:        -748.73   \n",
      "Df Model:                  30                    LL-Null:               -981.98   \n",
      "Df Residuals:              4322                  LLR p-value:           8.6376e-80\n",
      "Converged:                 1.0000                Scale:                 1.0000    \n",
      "No. Iterations:            9.0000                                                 \n",
      "----------------------------------------------------------------------------------\n",
      "                  Coef.     Std.Err.      z    P>|z|      [0.025         0.975]   \n",
      "----------------------------------------------------------------------------------\n",
      "femaleh           0.4718        0.3019  1.5627 0.1181        -0.1199        1.0635\n",
      "hhsize            0.1815        0.0494  3.6774 0.0002         0.0848        0.2783\n",
      "f0t6             -4.6246        0.8704 -5.3135 0.0000        -6.3305       -2.9188\n",
      "m0t6             -4.3472        0.9062 -4.7974 0.0000        -6.1233       -2.5712\n",
      "f7t12            -2.3346        0.7362 -3.1711 0.0015        -3.7776       -0.8916\n",
      "m7t12            -3.7011        0.7682 -4.8177 0.0000        -5.2068       -2.1954\n",
      "f13t15           -1.2623        0.9127 -1.3831 0.1666        -3.0512        0.5265\n",
      "f16t18           -2.4398        0.9278 -2.6297 0.0085        -4.2581       -0.6214\n",
      "f19t60           -5.1628        0.6221 -8.2987 0.0000        -6.3821       -3.9435\n",
      "m13t15           -0.5697        0.9071 -0.6280 0.5300        -2.3475        1.2082\n",
      "m16t18           -0.7395        0.9115 -0.8112 0.4172        -2.5260        1.0471\n",
      "m19t60           -3.9272        0.6018 -6.5262 0.0000        -5.1067       -2.7478\n",
      "f61              -6.8583        1.2139 -5.6497 0.0000        -9.2375       -4.4791\n",
      "m61              -3.8938        0.9610 -4.0521 0.0001        -5.7773       -2.0104\n",
      "rural             0.4810        0.1776  2.7085 0.0068         0.1329        0.8290\n",
      "No education      0.1614        0.3629  0.4448 0.6564        -0.5498        0.8726\n",
      "Primary           0.3020        0.3482  0.8672 0.3858        -0.3805        0.9845\n",
      "Junior secondary -0.0247        0.3771 -0.0654 0.9479        -0.7638        0.7144\n",
      "Senior secondary -0.7077        0.3895 -1.8170 0.0692        -1.4711        0.0557\n",
      "Quintile 1       -0.1128        0.2678 -0.4212 0.6736        -0.6378        0.4122\n",
      "Quintile 2       -0.4276        0.2541 -1.6826 0.0925        -0.9256        0.0705\n",
      "Quintile 3       -0.4790        0.2519 -1.9015 0.0572        -0.9728        0.0147\n",
      "Quintile 4       -0.5049        0.2498 -2.0208 0.0433        -0.9945       -0.0152\n",
      "Sumatra          -0.2798        0.2833 -0.9879 0.3232        -0.8350        0.2754\n",
      "Java and Bali    -0.2490        0.2609 -0.9542 0.3400        -0.7604        0.2624\n",
      "Kalimantan        0.1409        0.3120  0.4517 0.6515        -0.4705        0.7523\n",
      "Sulawesi          0.1759        0.3196  0.5503 0.5821        -0.4506        0.8024\n",
      "%work10t12        2.0483 13997702.7503  0.0000 1.0000 -27434991.2087 27434995.3052\n",
      "%work13t15        2.0958 13997702.7503  0.0000 1.0000 -27434991.1612 27434995.3528\n",
      "%work16t18       -1.0130 13997702.7503 -0.0000 1.0000 -27434994.2699 27434992.2440\n",
      "%work10t18_x      3.1311 13997702.7503  0.0000 1.0000 -27434990.1259 27434996.3881\n",
      "Childlabour_05    1.1352        0.3687  3.0792 0.0021         0.4126        1.8577\n",
      "==================================================================================\n",
      "\n"
     ]
    }
   ],
   "source": [
    "#Let's get a statistical summary of our logistic model\n",
    "import statsmodels.api as sm\n",
    "logit_model=sm.Logit(y,X)\n",
    "result=logit_model.fit()\n",
    "print(result.summary2())"
   ]
  },
  {
   "cell_type": "code",
   "execution_count": null,
   "metadata": {},
   "outputs": [],
   "source": [
    "#Hmmmmm this doesn't look quite right to be honest- no education or income quintiles are showing as statistically significant\n",
    "#Low r-squared score. Damn\n",
    "#May need to add in the last of each dummy variables. \n",
    "#Consider scaling household size?"
   ]
  },
  {
   "cell_type": "markdown",
   "metadata": {},
   "source": [
    "# Analysis of Model performance"
   ]
  },
  {
   "cell_type": "code",
   "execution_count": null,
   "metadata": {},
   "outputs": [],
   "source": [
    "#confusion matrix"
   ]
  },
  {
   "cell_type": "code",
   "execution_count": 29,
   "metadata": {},
   "outputs": [
    {
     "name": "stdout",
     "output_type": "stream",
     "text": [
      "[[1016   11]\n",
      " [  55    7]]\n"
     ]
    }
   ],
   "source": [
    "from sklearn.metrics import confusion_matrix\n",
    "confusion_matrix = confusion_matrix(y_test, predictions)\n",
    "print(confusion_matrix)"
   ]
  },
  {
   "cell_type": "code",
   "execution_count": null,
   "metadata": {},
   "outputs": [],
   "source": [
    "# Referring to documentation www.scikit-learn.org/stable/modules/generated/sklearn.metrics.confusion_matrix.html\n",
    "#the confusion matrix returns an output array as below for a binary target variable:\n",
    "#  [(tn, fp, \n",
    " #   fn, tp)]\n",
    "    "
   ]
  },
  {
   "cell_type": "code",
   "execution_count": null,
   "metadata": {},
   "outputs": [],
   "source": [
    "#So the confusion matrix tells us of 1089 predictions in the X_test and y_test data set, there were 1016 True Negative results, \n",
    "#and 7 True Positives for a total of 1025 correct predictions\n"
   ]
  },
  {
   "cell_type": "code",
   "execution_count": 33,
   "metadata": {},
   "outputs": [
    {
     "name": "stdout",
     "output_type": "stream",
     "text": [
      "              precision    recall  f1-score   support\n",
      "\n",
      "           0       0.95      0.99      0.97      1027\n",
      "           1       0.39      0.11      0.18        62\n",
      "\n",
      "    accuracy                           0.94      1089\n",
      "   macro avg       0.67      0.55      0.57      1089\n",
      "weighted avg       0.92      0.94      0.92      1089\n",
      "\n"
     ]
    }
   ],
   "source": [
    "from sklearn.metrics import classification_report\n",
    "print(classification_report(y_test, predictions))"
   ]
  },
  {
   "cell_type": "code",
   "execution_count": null,
   "metadata": {},
   "outputs": [],
   "source": [
    "#So overall our model doesn't seem that bad. \n",
    "#BUT it seems quite bad at actually correctly identifying/predicting households where children go on to enter the labour market."
   ]
  }
 ],
 "metadata": {
  "kernelspec": {
   "display_name": "Python [conda env:PythonAdv]",
   "language": "python",
   "name": "conda-env-PythonAdv-py"
  },
  "language_info": {
   "codemirror_mode": {
    "name": "ipython",
    "version": 3
   },
   "file_extension": ".py",
   "mimetype": "text/x-python",
   "name": "python",
   "nbconvert_exporter": "python",
   "pygments_lexer": "ipython3",
   "version": "3.6.12"
  }
 },
 "nbformat": 4,
 "nbformat_minor": 4
}
