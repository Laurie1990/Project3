{
 "cells": [
  {
   "cell_type": "markdown",
   "metadata": {},
   "source": [
    "# 1. Set up and module installation"
   ]
  },
  {
   "cell_type": "code",
   "execution_count": 80,
   "metadata": {},
   "outputs": [],
   "source": [
    "%matplotlib inline\n",
    "import matplotlib.pyplot as plt\n",
    "import pandas as pd\n",
    "import os\n",
    "import seaborn as sns\n",
    "import statsmodels.api as sm\n",
    "import numpy as np"
   ]
  },
  {
   "cell_type": "code",
   "execution_count": 81,
   "metadata": {},
   "outputs": [],
   "source": [
    "#load our cleaned data in"
   ]
  },
  {
   "cell_type": "code",
   "execution_count": 82,
   "metadata": {},
   "outputs": [],
   "source": [
    "data_path = \"02_cleaned_data.csv\""
   ]
  },
  {
   "cell_type": "code",
   "execution_count": 83,
   "metadata": {},
   "outputs": [],
   "source": [
    "data = pd.read_csv(data_path)"
   ]
  },
  {
   "cell_type": "code",
   "execution_count": 84,
   "metadata": {},
   "outputs": [
    {
     "data": {
      "text/html": [
       "<div>\n",
       "<style scoped>\n",
       "    .dataframe tbody tr th:only-of-type {\n",
       "        vertical-align: middle;\n",
       "    }\n",
       "\n",
       "    .dataframe tbody tr th {\n",
       "        vertical-align: top;\n",
       "    }\n",
       "\n",
       "    .dataframe thead th {\n",
       "        text-align: right;\n",
       "    }\n",
       "</style>\n",
       "<table border=\"1\" class=\"dataframe\">\n",
       "  <thead>\n",
       "    <tr style=\"text-align: right;\">\n",
       "      <th></th>\n",
       "      <th>Unnamed: 0</th>\n",
       "      <th>femaleh</th>\n",
       "      <th>hhsize</th>\n",
       "      <th>f0t6</th>\n",
       "      <th>m0t6</th>\n",
       "      <th>f7t12</th>\n",
       "      <th>m7t12</th>\n",
       "      <th>f13t15</th>\n",
       "      <th>f16t18</th>\n",
       "      <th>f19t60</th>\n",
       "      <th>...</th>\n",
       "      <th>m61</th>\n",
       "      <th>rural</th>\n",
       "      <th>Low_education</th>\n",
       "      <th>Low_income</th>\n",
       "      <th>Sumatra</th>\n",
       "      <th>Java and Bali</th>\n",
       "      <th>Kalimantan</th>\n",
       "      <th>Sulawesi</th>\n",
       "      <th>Childlabour_05</th>\n",
       "      <th>Childlabour_06</th>\n",
       "    </tr>\n",
       "  </thead>\n",
       "  <tbody>\n",
       "    <tr>\n",
       "      <th>0</th>\n",
       "      <td>0</td>\n",
       "      <td>0</td>\n",
       "      <td>10</td>\n",
       "      <td>0.0</td>\n",
       "      <td>0.0</td>\n",
       "      <td>0.000000</td>\n",
       "      <td>0.000000</td>\n",
       "      <td>0.100000</td>\n",
       "      <td>0.100000</td>\n",
       "      <td>0.500000</td>\n",
       "      <td>...</td>\n",
       "      <td>0.0</td>\n",
       "      <td>1</td>\n",
       "      <td>1.0</td>\n",
       "      <td>1.0</td>\n",
       "      <td>1</td>\n",
       "      <td>0</td>\n",
       "      <td>0</td>\n",
       "      <td>0</td>\n",
       "      <td>0</td>\n",
       "      <td>0</td>\n",
       "    </tr>\n",
       "    <tr>\n",
       "      <th>1</th>\n",
       "      <td>1</td>\n",
       "      <td>0</td>\n",
       "      <td>7</td>\n",
       "      <td>0.0</td>\n",
       "      <td>0.0</td>\n",
       "      <td>0.142857</td>\n",
       "      <td>0.000000</td>\n",
       "      <td>0.000000</td>\n",
       "      <td>0.142857</td>\n",
       "      <td>0.571429</td>\n",
       "      <td>...</td>\n",
       "      <td>0.0</td>\n",
       "      <td>1</td>\n",
       "      <td>1.0</td>\n",
       "      <td>1.0</td>\n",
       "      <td>1</td>\n",
       "      <td>0</td>\n",
       "      <td>0</td>\n",
       "      <td>0</td>\n",
       "      <td>0</td>\n",
       "      <td>1</td>\n",
       "    </tr>\n",
       "    <tr>\n",
       "      <th>2</th>\n",
       "      <td>2</td>\n",
       "      <td>0</td>\n",
       "      <td>6</td>\n",
       "      <td>0.0</td>\n",
       "      <td>0.0</td>\n",
       "      <td>0.000000</td>\n",
       "      <td>0.333333</td>\n",
       "      <td>0.166667</td>\n",
       "      <td>0.166667</td>\n",
       "      <td>0.166667</td>\n",
       "      <td>...</td>\n",
       "      <td>0.0</td>\n",
       "      <td>1</td>\n",
       "      <td>1.0</td>\n",
       "      <td>1.0</td>\n",
       "      <td>1</td>\n",
       "      <td>0</td>\n",
       "      <td>0</td>\n",
       "      <td>0</td>\n",
       "      <td>1</td>\n",
       "      <td>0</td>\n",
       "    </tr>\n",
       "    <tr>\n",
       "      <th>3</th>\n",
       "      <td>3</td>\n",
       "      <td>0</td>\n",
       "      <td>5</td>\n",
       "      <td>0.0</td>\n",
       "      <td>0.0</td>\n",
       "      <td>0.000000</td>\n",
       "      <td>0.000000</td>\n",
       "      <td>0.000000</td>\n",
       "      <td>0.200000</td>\n",
       "      <td>0.200000</td>\n",
       "      <td>...</td>\n",
       "      <td>0.0</td>\n",
       "      <td>0</td>\n",
       "      <td>1.0</td>\n",
       "      <td>0.0</td>\n",
       "      <td>1</td>\n",
       "      <td>0</td>\n",
       "      <td>0</td>\n",
       "      <td>0</td>\n",
       "      <td>1</td>\n",
       "      <td>1</td>\n",
       "    </tr>\n",
       "    <tr>\n",
       "      <th>4</th>\n",
       "      <td>4</td>\n",
       "      <td>0</td>\n",
       "      <td>3</td>\n",
       "      <td>0.0</td>\n",
       "      <td>0.0</td>\n",
       "      <td>0.000000</td>\n",
       "      <td>0.000000</td>\n",
       "      <td>0.000000</td>\n",
       "      <td>0.000000</td>\n",
       "      <td>0.333333</td>\n",
       "      <td>...</td>\n",
       "      <td>0.0</td>\n",
       "      <td>0</td>\n",
       "      <td>1.0</td>\n",
       "      <td>0.0</td>\n",
       "      <td>1</td>\n",
       "      <td>0</td>\n",
       "      <td>0</td>\n",
       "      <td>0</td>\n",
       "      <td>0</td>\n",
       "      <td>0</td>\n",
       "    </tr>\n",
       "  </tbody>\n",
       "</table>\n",
       "<p>5 rows × 24 columns</p>\n",
       "</div>"
      ],
      "text/plain": [
       "   Unnamed: 0  femaleh  hhsize  f0t6  m0t6     f7t12     m7t12    f13t15  \\\n",
       "0           0        0      10   0.0   0.0  0.000000  0.000000  0.100000   \n",
       "1           1        0       7   0.0   0.0  0.142857  0.000000  0.000000   \n",
       "2           2        0       6   0.0   0.0  0.000000  0.333333  0.166667   \n",
       "3           3        0       5   0.0   0.0  0.000000  0.000000  0.000000   \n",
       "4           4        0       3   0.0   0.0  0.000000  0.000000  0.000000   \n",
       "\n",
       "     f16t18    f19t60  ...  m61  rural  Low_education  Low_income  Sumatra  \\\n",
       "0  0.100000  0.500000  ...  0.0      1            1.0         1.0        1   \n",
       "1  0.142857  0.571429  ...  0.0      1            1.0         1.0        1   \n",
       "2  0.166667  0.166667  ...  0.0      1            1.0         1.0        1   \n",
       "3  0.200000  0.200000  ...  0.0      0            1.0         0.0        1   \n",
       "4  0.000000  0.333333  ...  0.0      0            1.0         0.0        1   \n",
       "\n",
       "   Java and Bali  Kalimantan  Sulawesi  Childlabour_05  Childlabour_06  \n",
       "0              0           0         0               0               0  \n",
       "1              0           0         0               0               1  \n",
       "2              0           0         0               1               0  \n",
       "3              0           0         0               1               1  \n",
       "4              0           0         0               0               0  \n",
       "\n",
       "[5 rows x 24 columns]"
      ]
     },
     "execution_count": 84,
     "metadata": {},
     "output_type": "execute_result"
    }
   ],
   "source": [
    "data.head()"
   ]
  },
  {
   "cell_type": "code",
   "execution_count": 85,
   "metadata": {},
   "outputs": [],
   "source": [
    "data=data.drop([\"Unnamed: 0\"], axis=1)"
   ]
  },
  {
   "cell_type": "code",
   "execution_count": 86,
   "metadata": {},
   "outputs": [
    {
     "data": {
      "text/html": [
       "<div>\n",
       "<style scoped>\n",
       "    .dataframe tbody tr th:only-of-type {\n",
       "        vertical-align: middle;\n",
       "    }\n",
       "\n",
       "    .dataframe tbody tr th {\n",
       "        vertical-align: top;\n",
       "    }\n",
       "\n",
       "    .dataframe thead th {\n",
       "        text-align: right;\n",
       "    }\n",
       "</style>\n",
       "<table border=\"1\" class=\"dataframe\">\n",
       "  <thead>\n",
       "    <tr style=\"text-align: right;\">\n",
       "      <th></th>\n",
       "      <th>femaleh</th>\n",
       "      <th>hhsize</th>\n",
       "      <th>f0t6</th>\n",
       "      <th>m0t6</th>\n",
       "      <th>f7t12</th>\n",
       "      <th>m7t12</th>\n",
       "      <th>f13t15</th>\n",
       "      <th>f16t18</th>\n",
       "      <th>f19t60</th>\n",
       "      <th>m13t15</th>\n",
       "      <th>...</th>\n",
       "      <th>m61</th>\n",
       "      <th>rural</th>\n",
       "      <th>Low_education</th>\n",
       "      <th>Low_income</th>\n",
       "      <th>Sumatra</th>\n",
       "      <th>Java and Bali</th>\n",
       "      <th>Kalimantan</th>\n",
       "      <th>Sulawesi</th>\n",
       "      <th>Childlabour_05</th>\n",
       "      <th>Childlabour_06</th>\n",
       "    </tr>\n",
       "  </thead>\n",
       "  <tbody>\n",
       "    <tr>\n",
       "      <th>0</th>\n",
       "      <td>0</td>\n",
       "      <td>10</td>\n",
       "      <td>0.0</td>\n",
       "      <td>0.0</td>\n",
       "      <td>0.000000</td>\n",
       "      <td>0.000000</td>\n",
       "      <td>0.100000</td>\n",
       "      <td>0.100000</td>\n",
       "      <td>0.500000</td>\n",
       "      <td>0.0</td>\n",
       "      <td>...</td>\n",
       "      <td>0.0</td>\n",
       "      <td>1</td>\n",
       "      <td>1.0</td>\n",
       "      <td>1.0</td>\n",
       "      <td>1</td>\n",
       "      <td>0</td>\n",
       "      <td>0</td>\n",
       "      <td>0</td>\n",
       "      <td>0</td>\n",
       "      <td>0</td>\n",
       "    </tr>\n",
       "    <tr>\n",
       "      <th>1</th>\n",
       "      <td>0</td>\n",
       "      <td>7</td>\n",
       "      <td>0.0</td>\n",
       "      <td>0.0</td>\n",
       "      <td>0.142857</td>\n",
       "      <td>0.000000</td>\n",
       "      <td>0.000000</td>\n",
       "      <td>0.142857</td>\n",
       "      <td>0.571429</td>\n",
       "      <td>0.0</td>\n",
       "      <td>...</td>\n",
       "      <td>0.0</td>\n",
       "      <td>1</td>\n",
       "      <td>1.0</td>\n",
       "      <td>1.0</td>\n",
       "      <td>1</td>\n",
       "      <td>0</td>\n",
       "      <td>0</td>\n",
       "      <td>0</td>\n",
       "      <td>0</td>\n",
       "      <td>1</td>\n",
       "    </tr>\n",
       "    <tr>\n",
       "      <th>2</th>\n",
       "      <td>0</td>\n",
       "      <td>6</td>\n",
       "      <td>0.0</td>\n",
       "      <td>0.0</td>\n",
       "      <td>0.000000</td>\n",
       "      <td>0.333333</td>\n",
       "      <td>0.166667</td>\n",
       "      <td>0.166667</td>\n",
       "      <td>0.166667</td>\n",
       "      <td>0.0</td>\n",
       "      <td>...</td>\n",
       "      <td>0.0</td>\n",
       "      <td>1</td>\n",
       "      <td>1.0</td>\n",
       "      <td>1.0</td>\n",
       "      <td>1</td>\n",
       "      <td>0</td>\n",
       "      <td>0</td>\n",
       "      <td>0</td>\n",
       "      <td>1</td>\n",
       "      <td>0</td>\n",
       "    </tr>\n",
       "    <tr>\n",
       "      <th>3</th>\n",
       "      <td>0</td>\n",
       "      <td>5</td>\n",
       "      <td>0.0</td>\n",
       "      <td>0.0</td>\n",
       "      <td>0.000000</td>\n",
       "      <td>0.000000</td>\n",
       "      <td>0.000000</td>\n",
       "      <td>0.200000</td>\n",
       "      <td>0.200000</td>\n",
       "      <td>0.0</td>\n",
       "      <td>...</td>\n",
       "      <td>0.0</td>\n",
       "      <td>0</td>\n",
       "      <td>1.0</td>\n",
       "      <td>0.0</td>\n",
       "      <td>1</td>\n",
       "      <td>0</td>\n",
       "      <td>0</td>\n",
       "      <td>0</td>\n",
       "      <td>1</td>\n",
       "      <td>1</td>\n",
       "    </tr>\n",
       "    <tr>\n",
       "      <th>4</th>\n",
       "      <td>0</td>\n",
       "      <td>3</td>\n",
       "      <td>0.0</td>\n",
       "      <td>0.0</td>\n",
       "      <td>0.000000</td>\n",
       "      <td>0.000000</td>\n",
       "      <td>0.000000</td>\n",
       "      <td>0.000000</td>\n",
       "      <td>0.333333</td>\n",
       "      <td>0.0</td>\n",
       "      <td>...</td>\n",
       "      <td>0.0</td>\n",
       "      <td>0</td>\n",
       "      <td>1.0</td>\n",
       "      <td>0.0</td>\n",
       "      <td>1</td>\n",
       "      <td>0</td>\n",
       "      <td>0</td>\n",
       "      <td>0</td>\n",
       "      <td>0</td>\n",
       "      <td>0</td>\n",
       "    </tr>\n",
       "  </tbody>\n",
       "</table>\n",
       "<p>5 rows × 23 columns</p>\n",
       "</div>"
      ],
      "text/plain": [
       "   femaleh  hhsize  f0t6  m0t6     f7t12     m7t12    f13t15    f16t18  \\\n",
       "0        0      10   0.0   0.0  0.000000  0.000000  0.100000  0.100000   \n",
       "1        0       7   0.0   0.0  0.142857  0.000000  0.000000  0.142857   \n",
       "2        0       6   0.0   0.0  0.000000  0.333333  0.166667  0.166667   \n",
       "3        0       5   0.0   0.0  0.000000  0.000000  0.000000  0.200000   \n",
       "4        0       3   0.0   0.0  0.000000  0.000000  0.000000  0.000000   \n",
       "\n",
       "     f19t60  m13t15  ...  m61  rural  Low_education  Low_income  Sumatra  \\\n",
       "0  0.500000     0.0  ...  0.0      1            1.0         1.0        1   \n",
       "1  0.571429     0.0  ...  0.0      1            1.0         1.0        1   \n",
       "2  0.166667     0.0  ...  0.0      1            1.0         1.0        1   \n",
       "3  0.200000     0.0  ...  0.0      0            1.0         0.0        1   \n",
       "4  0.333333     0.0  ...  0.0      0            1.0         0.0        1   \n",
       "\n",
       "   Java and Bali  Kalimantan  Sulawesi  Childlabour_05  Childlabour_06  \n",
       "0              0           0         0               0               0  \n",
       "1              0           0         0               0               1  \n",
       "2              0           0         0               1               0  \n",
       "3              0           0         0               1               1  \n",
       "4              0           0         0               0               0  \n",
       "\n",
       "[5 rows x 23 columns]"
      ]
     },
     "execution_count": 86,
     "metadata": {},
     "output_type": "execute_result"
    }
   ],
   "source": [
    "data.head()"
   ]
  },
  {
   "cell_type": "markdown",
   "metadata": {},
   "source": [
    "# 2. Get test and train splits, scale data"
   ]
  },
  {
   "cell_type": "code",
   "execution_count": 87,
   "metadata": {},
   "outputs": [
    {
     "name": "stdout",
     "output_type": "stream",
     "text": [
      "(4353, 22) (4353,)\n"
     ]
    }
   ],
   "source": [
    "# Assign X (data) and y (target), reshape the y array\n",
    "X = data.drop([\"Childlabour_06\"], axis=1)\n",
    "y = data[\"Childlabour_06\"]\n",
    "print(X.shape, y.shape)"
   ]
  },
  {
   "cell_type": "code",
   "execution_count": 88,
   "metadata": {},
   "outputs": [],
   "source": [
    "#Split our data into training and testing"
   ]
  },
  {
   "cell_type": "code",
   "execution_count": 89,
   "metadata": {},
   "outputs": [],
   "source": [
    "from sklearn.model_selection import train_test_split"
   ]
  },
  {
   "cell_type": "code",
   "execution_count": 90,
   "metadata": {},
   "outputs": [],
   "source": [
    "X_train, X_test, y_train, y_test = train_test_split(X, y, random_state=1)"
   ]
  },
  {
   "cell_type": "code",
   "execution_count": 91,
   "metadata": {},
   "outputs": [
    {
     "data": {
      "text/plain": [
       "pandas.core.frame.DataFrame"
      ]
     },
     "execution_count": 91,
     "metadata": {},
     "output_type": "execute_result"
    }
   ],
   "source": [
    "type(X_test)"
   ]
  },
  {
   "cell_type": "code",
   "execution_count": 92,
   "metadata": {},
   "outputs": [
    {
     "data": {
      "text/plain": [
       "(1089, 22)"
      ]
     },
     "execution_count": 92,
     "metadata": {},
     "output_type": "execute_result"
    }
   ],
   "source": [
    "X_test.shape"
   ]
  },
  {
   "cell_type": "code",
   "execution_count": 93,
   "metadata": {},
   "outputs": [
    {
     "data": {
      "text/plain": [
       "(3264, 22)"
      ]
     },
     "execution_count": 93,
     "metadata": {},
     "output_type": "execute_result"
    }
   ],
   "source": [
    "X_train.shape"
   ]
  },
  {
   "cell_type": "code",
   "execution_count": 94,
   "metadata": {},
   "outputs": [
    {
     "data": {
      "text/plain": [
       "LogisticRegression(max_iter=10000)"
      ]
     },
     "execution_count": 94,
     "metadata": {},
     "output_type": "execute_result"
    }
   ],
   "source": [
    "from sklearn.linear_model import LogisticRegression\n",
    "classifier = LogisticRegression(max_iter = 10000)\n",
    "classifier"
   ]
  },
  {
   "cell_type": "code",
   "execution_count": 95,
   "metadata": {},
   "outputs": [],
   "source": [
    "#Fit (train) or model using the training data"
   ]
  },
  {
   "cell_type": "code",
   "execution_count": 96,
   "metadata": {},
   "outputs": [
    {
     "data": {
      "text/plain": [
       "LogisticRegression(max_iter=10000)"
      ]
     },
     "execution_count": 96,
     "metadata": {},
     "output_type": "execute_result"
    }
   ],
   "source": [
    "classifier.fit(X_train, y_train)"
   ]
  },
  {
   "cell_type": "markdown",
   "metadata": {},
   "source": [
    "# 3. Check model fit"
   ]
  },
  {
   "cell_type": "code",
   "execution_count": 97,
   "metadata": {},
   "outputs": [
    {
     "name": "stdout",
     "output_type": "stream",
     "text": [
      "Training Data Score: 0.9399509803921569\n",
      "Testing Data Score: 0.9393939393939394\n"
     ]
    }
   ],
   "source": [
    "print(f\"Training Data Score: {classifier.score(X_train, y_train)}\")\n",
    "print(f\"Testing Data Score: {classifier.score(X_test, y_test)}\")"
   ]
  },
  {
   "cell_type": "code",
   "execution_count": 98,
   "metadata": {},
   "outputs": [
    {
     "name": "stdout",
     "output_type": "stream",
     "text": [
      "First 10 Predictions:   [0 0 0 0 0 0 0 0 0 0]\n",
      "First 10 Actual labels: [0, 0, 0, 0, 0, 0, 0, 0, 0, 0]\n"
     ]
    }
   ],
   "source": [
    "predictions = classifier.predict(X_test)\n",
    "print(f\"First 10 Predictions:   {predictions[:10]}\")\n",
    "print(f\"First 10 Actual labels: {y_test[:10].tolist()}\")"
   ]
  },
  {
   "cell_type": "code",
   "execution_count": 99,
   "metadata": {},
   "outputs": [
    {
     "data": {
      "text/html": [
       "<div>\n",
       "<style scoped>\n",
       "    .dataframe tbody tr th:only-of-type {\n",
       "        vertical-align: middle;\n",
       "    }\n",
       "\n",
       "    .dataframe tbody tr th {\n",
       "        vertical-align: top;\n",
       "    }\n",
       "\n",
       "    .dataframe thead th {\n",
       "        text-align: right;\n",
       "    }\n",
       "</style>\n",
       "<table border=\"1\" class=\"dataframe\">\n",
       "  <thead>\n",
       "    <tr style=\"text-align: right;\">\n",
       "      <th></th>\n",
       "      <th>Prediction</th>\n",
       "      <th>Actual</th>\n",
       "    </tr>\n",
       "  </thead>\n",
       "  <tbody>\n",
       "    <tr>\n",
       "      <th>0</th>\n",
       "      <td>0</td>\n",
       "      <td>0</td>\n",
       "    </tr>\n",
       "    <tr>\n",
       "      <th>1</th>\n",
       "      <td>0</td>\n",
       "      <td>0</td>\n",
       "    </tr>\n",
       "    <tr>\n",
       "      <th>2</th>\n",
       "      <td>0</td>\n",
       "      <td>0</td>\n",
       "    </tr>\n",
       "    <tr>\n",
       "      <th>3</th>\n",
       "      <td>0</td>\n",
       "      <td>0</td>\n",
       "    </tr>\n",
       "    <tr>\n",
       "      <th>4</th>\n",
       "      <td>0</td>\n",
       "      <td>0</td>\n",
       "    </tr>\n",
       "    <tr>\n",
       "      <th>...</th>\n",
       "      <td>...</td>\n",
       "      <td>...</td>\n",
       "    </tr>\n",
       "    <tr>\n",
       "      <th>1084</th>\n",
       "      <td>0</td>\n",
       "      <td>0</td>\n",
       "    </tr>\n",
       "    <tr>\n",
       "      <th>1085</th>\n",
       "      <td>0</td>\n",
       "      <td>1</td>\n",
       "    </tr>\n",
       "    <tr>\n",
       "      <th>1086</th>\n",
       "      <td>0</td>\n",
       "      <td>0</td>\n",
       "    </tr>\n",
       "    <tr>\n",
       "      <th>1087</th>\n",
       "      <td>0</td>\n",
       "      <td>0</td>\n",
       "    </tr>\n",
       "    <tr>\n",
       "      <th>1088</th>\n",
       "      <td>0</td>\n",
       "      <td>0</td>\n",
       "    </tr>\n",
       "  </tbody>\n",
       "</table>\n",
       "<p>1089 rows × 2 columns</p>\n",
       "</div>"
      ],
      "text/plain": [
       "      Prediction  Actual\n",
       "0              0       0\n",
       "1              0       0\n",
       "2              0       0\n",
       "3              0       0\n",
       "4              0       0\n",
       "...          ...     ...\n",
       "1084           0       0\n",
       "1085           0       1\n",
       "1086           0       0\n",
       "1087           0       0\n",
       "1088           0       0\n",
       "\n",
       "[1089 rows x 2 columns]"
      ]
     },
     "execution_count": 99,
     "metadata": {},
     "output_type": "execute_result"
    }
   ],
   "source": [
    "pd.DataFrame({\"Prediction\": predictions, \"Actual\": y_test}).reset_index(drop=True)"
   ]
  },
  {
   "cell_type": "markdown",
   "metadata": {},
   "source": [
    "# 4. Analysis of first model"
   ]
  },
  {
   "cell_type": "code",
   "execution_count": 101,
   "metadata": {},
   "outputs": [
    {
     "name": "stdout",
     "output_type": "stream",
     "text": [
      "Optimization terminated successfully.\n",
      "         Current function value: 0.174815\n",
      "         Iterations 9\n",
      "                         Results: Logit\n",
      "=================================================================\n",
      "Model:              Logit            Pseudo R-squared: 0.225     \n",
      "Dependent Variable: Childlabour_06   AIC:              1565.9358 \n",
      "Date:               2020-10-26 02:05 BIC:              1706.2654 \n",
      "No. Observations:   4353             Log-Likelihood:   -760.97   \n",
      "Df Model:           21               LL-Null:          -981.98   \n",
      "Df Residuals:       4331             LLR p-value:      1.7849e-80\n",
      "Converged:          1.0000           Scale:            1.0000    \n",
      "No. Iterations:     9.0000                                       \n",
      "-----------------------------------------------------------------\n",
      "                   Coef.  Std.Err.    z    P>|z|   [0.025  0.975]\n",
      "-----------------------------------------------------------------\n",
      "femaleh            0.4505   0.2948  1.5282 0.1265 -0.1273  1.0283\n",
      "hhsize             0.1276   0.0464  2.7499 0.0060  0.0367  0.2186\n",
      "f0t6              -5.0030   0.8336 -6.0020 0.0000 -6.6368 -3.3693\n",
      "m0t6              -4.5844   0.8450 -5.4254 0.0000 -6.2406 -2.9282\n",
      "f7t12             -2.5729   0.6732 -3.8221 0.0001 -3.8923 -1.2535\n",
      "m7t12             -4.0579   0.7202 -5.6344 0.0000 -5.4695 -2.6463\n",
      "f13t15            -1.2790   0.8250 -1.5504 0.1211 -2.8960  0.3379\n",
      "f16t18            -2.7472   0.7589 -3.6199 0.0003 -4.2346 -1.2597\n",
      "f19t60            -5.3419   0.5512 -9.6917 0.0000 -6.4222 -4.2616\n",
      "m13t15            -0.2419   0.7679 -0.3150 0.7527 -1.7471  1.2632\n",
      "m16t18            -1.5655   0.7939 -1.9718 0.0486 -3.1216 -0.0094\n",
      "m19t60            -4.2977   0.5316 -8.0841 0.0000 -5.3397 -3.2558\n",
      "f61               -7.0925   1.1558 -6.1363 0.0000 -9.3579 -4.8271\n",
      "m61               -4.3114   0.9058 -4.7596 0.0000 -6.0868 -2.5360\n",
      "rural              0.4119   0.1659  2.4824 0.0131  0.0867  0.7371\n",
      "Low_education      0.4246   0.1692  2.5089 0.0121  0.0929  0.7563\n",
      "Low_income         0.2797   0.1837  1.5230 0.1278 -0.0803  0.6397\n",
      "Sumatra           -0.3496   0.2755 -1.2689 0.2045 -0.8896  0.1904\n",
      "Java and Bali     -0.2476   0.2532 -0.9779 0.3281 -0.7439  0.2487\n",
      "Kalimantan         0.1374   0.3020  0.4549 0.6492 -0.4545  0.7293\n",
      "Sulawesi           0.1321   0.3153  0.4189 0.6753 -0.4858  0.7500\n",
      "Childlabour_05     1.9354   0.1741 11.1169 0.0000  1.5942  2.2766\n",
      "=================================================================\n",
      "\n"
     ]
    }
   ],
   "source": [
    "#Let's get a statistical summary of our logistic model\n",
    "import statsmodels.api as sm\n",
    "logit_model=sm.Logit(y,X)\n",
    "result=logit_model.fit()\n",
    "print(result.summary2())"
   ]
  },
  {
   "cell_type": "code",
   "execution_count": 102,
   "metadata": {},
   "outputs": [],
   "source": [
    "#Hmmmmm... Low r-squared score. Damn\n",
    "#Consider scaling household size?"
   ]
  },
  {
   "cell_type": "code",
   "execution_count": 103,
   "metadata": {},
   "outputs": [],
   "source": [
    "#confusion matrix"
   ]
  },
  {
   "cell_type": "code",
   "execution_count": 104,
   "metadata": {},
   "outputs": [
    {
     "name": "stdout",
     "output_type": "stream",
     "text": [
      "[[1016   11]\n",
      " [  55    7]]\n"
     ]
    }
   ],
   "source": [
    "from sklearn.metrics import confusion_matrix\n",
    "confusion_matrix = confusion_matrix(y_test, predictions)\n",
    "print(confusion_matrix)"
   ]
  },
  {
   "cell_type": "code",
   "execution_count": 105,
   "metadata": {},
   "outputs": [],
   "source": [
    "# Referring to documentation www.scikit-learn.org/stable/modules/generated/sklearn.metrics.confusion_matrix.html\n",
    "#the confusion matrix returns an output array as below for a binary target variable:\n",
    "#  [(tn, fp, \n",
    " #   fn, tp)]\n",
    "    "
   ]
  },
  {
   "cell_type": "code",
   "execution_count": 106,
   "metadata": {},
   "outputs": [],
   "source": [
    "#So the confusion matrix tells us of 1089 predictions in the X_test and y_test data set, there were 1014 True Negative results, \n",
    "#and 7 True Positives for a total of 1021 correct predictions\n"
   ]
  },
  {
   "cell_type": "code",
   "execution_count": 107,
   "metadata": {},
   "outputs": [
    {
     "name": "stdout",
     "output_type": "stream",
     "text": [
      "              precision    recall  f1-score   support\n",
      "\n",
      "           0       0.95      0.99      0.97      1027\n",
      "           1       0.39      0.11      0.18        62\n",
      "\n",
      "    accuracy                           0.94      1089\n",
      "   macro avg       0.67      0.55      0.57      1089\n",
      "weighted avg       0.92      0.94      0.92      1089\n",
      "\n"
     ]
    }
   ],
   "source": [
    "from sklearn.metrics import classification_report\n",
    "print(classification_report(y_test, predictions))"
   ]
  },
  {
   "cell_type": "code",
   "execution_count": 108,
   "metadata": {},
   "outputs": [],
   "source": [
    "#So overall our initial model doesn't seem that great.\n",
    "#We can implement some changes to make it work better"
   ]
  },
  {
   "cell_type": "markdown",
   "metadata": {},
   "source": [
    "# 5. Implementing k-folds cross validation"
   ]
  },
  {
   "cell_type": "code",
   "execution_count": 109,
   "metadata": {},
   "outputs": [],
   "source": [
    "# \n",
    "from sklearn.model_selection import KFold\n",
    "from sklearn.model_selection import cross_val_score\n",
    "from sklearn.model_selection import cross_val_predict\n",
    "from sklearn.metrics import confusion_matrix\n",
    "from numpy import mean\n",
    "from numpy import std"
   ]
  },
  {
   "cell_type": "code",
   "execution_count": 110,
   "metadata": {},
   "outputs": [
    {
     "name": "stdout",
     "output_type": "stream",
     "text": [
      "Accuracy: 0.938 (0.008)\n"
     ]
    }
   ],
   "source": [
    "# \n",
    "# prepare the cross-validation procedure\n",
    "cv = KFold(n_splits=10, random_state=1, shuffle=True)\n",
    "# evaluate model\n",
    "scores_kfold = cross_val_score(classifier, X, y, scoring='accuracy', cv=cv, n_jobs=-1)\n",
    "# report performance\n",
    "print('Accuracy: %.3f (%.3f)' % (mean(scores_kfold), std(scores_kfold)))\n"
   ]
  },
  {
   "cell_type": "code",
   "execution_count": 111,
   "metadata": {},
   "outputs": [
    {
     "data": {
      "text/plain": [
       "array([[4062,   32],\n",
       "       [ 237,   22]], dtype=int64)"
      ]
     },
     "execution_count": 111,
     "metadata": {},
     "output_type": "execute_result"
    }
   ],
   "source": [
    "# \n",
    "y_pred = cross_val_predict(classifier, X, y, cv=cv, n_jobs=-1)\n",
    "conf_mat_kfold = confusion_matrix(y, y_pred)\n",
    "conf_mat_kfold"
   ]
  },
  {
   "cell_type": "code",
   "execution_count": 112,
   "metadata": {},
   "outputs": [
    {
     "name": "stdout",
     "output_type": "stream",
     "text": [
      "              precision    recall  f1-score   support\n",
      "\n",
      "           0       0.94      0.99      0.97      4094\n",
      "           1       0.41      0.08      0.14       259\n",
      "\n",
      "    accuracy                           0.94      4353\n",
      "   macro avg       0.68      0.54      0.55      4353\n",
      "weighted avg       0.91      0.94      0.92      4353\n",
      "\n"
     ]
    }
   ],
   "source": [
    "# \n",
    "classification_report_kfold=classification_report(y, y_pred)\n",
    "print(classification_report_kfold)"
   ]
  },
  {
   "cell_type": "code",
   "execution_count": 113,
   "metadata": {},
   "outputs": [],
   "source": [
    "# \n",
    "#Hmmm, interesting. So it seems recall has actually fallen slightly, whilst precision has increased. \n",
    "#Overall F1 and accuracy seems unchanged.\n",
    "#This is likely because of the highly imbalanced nature of the data set- kfolds cross validation fails on highly imbalanced datasets\n",
    "#To retify this we will create stratified k-fold cross-validation"
   ]
  },
  {
   "cell_type": "markdown",
   "metadata": {},
   "source": [
    "# 6. Stratified k-fold cross validation"
   ]
  },
  {
   "cell_type": "code",
   "execution_count": 114,
   "metadata": {},
   "outputs": [],
   "source": [
    "from sklearn.model_selection import StratifiedKFold"
   ]
  },
  {
   "cell_type": "code",
   "execution_count": 115,
   "metadata": {},
   "outputs": [],
   "source": [
    "kstrat = StratifiedKFold(n_splits=5, shuffle=True, random_state=1)"
   ]
  },
  {
   "cell_type": "code",
   "execution_count": 116,
   "metadata": {},
   "outputs": [
    {
     "name": "stdout",
     "output_type": "stream",
     "text": [
      "Accuracy: 0.938 (0.002)\n"
     ]
    }
   ],
   "source": [
    "# evaluate model\n",
    "scores_kstrat = cross_val_score(classifier, X, y, scoring='accuracy', cv=kstrat, n_jobs=-1)\n",
    "# report performance\n",
    "print('Accuracy: %.3f (%.3f)' % (mean(scores_kstrat), std(scores_kstrat)))\n"
   ]
  },
  {
   "cell_type": "code",
   "execution_count": 117,
   "metadata": {},
   "outputs": [
    {
     "data": {
      "text/plain": [
       "array([[4065,   29],\n",
       "       [ 240,   19]], dtype=int64)"
      ]
     },
     "execution_count": 117,
     "metadata": {},
     "output_type": "execute_result"
    }
   ],
   "source": [
    "y_pred = cross_val_predict(classifier, X, y, cv=kstrat, n_jobs=-1)\n",
    "conf_mat_kstrat = confusion_matrix(y, y_pred)\n",
    "conf_mat_kstrat"
   ]
  },
  {
   "cell_type": "code",
   "execution_count": 118,
   "metadata": {},
   "outputs": [
    {
     "name": "stdout",
     "output_type": "stream",
     "text": [
      "              precision    recall  f1-score   support\n",
      "\n",
      "           0       0.94      0.99      0.97      4094\n",
      "           1       0.40      0.07      0.12       259\n",
      "\n",
      "    accuracy                           0.94      4353\n",
      "   macro avg       0.67      0.53      0.55      4353\n",
      "weighted avg       0.91      0.94      0.92      4353\n",
      "\n"
     ]
    }
   ],
   "source": [
    "classification_report_kstrat=classification_report(y, y_pred)\n",
    "print(classification_report_kstrat)"
   ]
  },
  {
   "cell_type": "code",
   "execution_count": 119,
   "metadata": {},
   "outputs": [],
   "source": [
    "#So k-stratification didn't seem to help that much.\n",
    "#Whilst we have ensured that there are an equal amount of y=1 observations in all our splits, still high imbalanced data set.\n",
    "#So, we have tried to deal with imbalanced data by stratified sampling, but our data just seems too imbalanced to really fix this.\n",
    "#So in our next step, we will attempt to train the model with more observation where y=1"
   ]
  },
  {
   "cell_type": "markdown",
   "metadata": {},
   "source": [
    "# 7. Second model, using SMOTE"
   ]
  },
  {
   "cell_type": "code",
   "execution_count": 120,
   "metadata": {},
   "outputs": [],
   "source": [
    "#Our quite bad at actually correctly identifying/predicting households where children go on to enter the labour market.\n",
    "#This is likely due to the highly imblanced dataset we are using. We have tried k-folds cross validation, but this does not seem to have helped much\n",
    "#Recalling our Exploratory Data Analysis only 5% of households actually have household labour- according to our survey earlier"
   ]
  },
  {
   "cell_type": "code",
   "execution_count": 121,
   "metadata": {},
   "outputs": [],
   "source": [
    "from imblearn.over_sampling import SMOTE"
   ]
  },
  {
   "cell_type": "code",
   "execution_count": 122,
   "metadata": {},
   "outputs": [],
   "source": [
    "os = SMOTE(random_state=0)\n"
   ]
  },
  {
   "cell_type": "code",
   "execution_count": 123,
   "metadata": {},
   "outputs": [
    {
     "data": {
      "text/plain": [
       "0    3067\n",
       "1     197\n",
       "Name: Childlabour_06, dtype: int64"
      ]
     },
     "execution_count": 123,
     "metadata": {},
     "output_type": "execute_result"
    }
   ],
   "source": [
    "y_train.value_counts()"
   ]
  },
  {
   "cell_type": "code",
   "execution_count": 124,
   "metadata": {},
   "outputs": [],
   "source": [
    "smt = SMOTE()\n",
    "X_train_os, y_train_os = smt.fit_sample(X_train, y_train)"
   ]
  },
  {
   "cell_type": "code",
   "execution_count": 125,
   "metadata": {},
   "outputs": [
    {
     "data": {
      "text/plain": [
       "array([3067, 3067], dtype=int64)"
      ]
     },
     "execution_count": 125,
     "metadata": {},
     "output_type": "execute_result"
    }
   ],
   "source": [
    "np.bincount(y_train_os)"
   ]
  },
  {
   "cell_type": "code",
   "execution_count": 126,
   "metadata": {},
   "outputs": [],
   "source": [
    "#We now have perfectly balanced sample sizes in our training data set"
   ]
  },
  {
   "cell_type": "code",
   "execution_count": 127,
   "metadata": {},
   "outputs": [
    {
     "data": {
      "text/plain": [
       "LogisticRegression(max_iter=10000)"
      ]
     },
     "execution_count": 127,
     "metadata": {},
     "output_type": "execute_result"
    }
   ],
   "source": [
    "classifier.fit(X_train_os, y_train_os)"
   ]
  },
  {
   "cell_type": "code",
   "execution_count": 128,
   "metadata": {},
   "outputs": [
    {
     "name": "stdout",
     "output_type": "stream",
     "text": [
      "Training Data Score: 0.7738832735572221\n",
      "Testing Data Score: 0.7640036730945822\n"
     ]
    }
   ],
   "source": [
    "print(f\"Training Data Score: {classifier.score(X_train_os, y_train_os)}\")\n",
    "print(f\"Testing Data Score: {classifier.score(X_test, y_test)}\")"
   ]
  },
  {
   "cell_type": "code",
   "execution_count": 129,
   "metadata": {},
   "outputs": [],
   "source": [
    "predictions = classifier.predict(X_test)"
   ]
  },
  {
   "cell_type": "code",
   "execution_count": 130,
   "metadata": {},
   "outputs": [
    {
     "data": {
      "text/plain": [
       "numpy.ndarray"
      ]
     },
     "execution_count": 130,
     "metadata": {},
     "output_type": "execute_result"
    }
   ],
   "source": [
    "type(predictions)"
   ]
  },
  {
   "cell_type": "code",
   "execution_count": 131,
   "metadata": {},
   "outputs": [
    {
     "name": "stdout",
     "output_type": "stream",
     "text": [
      "              precision    recall  f1-score   support\n",
      "\n",
      "           0       0.98      0.77      0.86      1027\n",
      "           1       0.15      0.68      0.25        62\n",
      "\n",
      "    accuracy                           0.76      1089\n",
      "   macro avg       0.56      0.72      0.55      1089\n",
      "weighted avg       0.93      0.76      0.83      1089\n",
      "\n"
     ]
    }
   ],
   "source": [
    "print(classification_report(y_test, predictions))"
   ]
  },
  {
   "cell_type": "code",
   "execution_count": 132,
   "metadata": {},
   "outputs": [
    {
     "name": "stdout",
     "output_type": "stream",
     "text": [
      "[[790 237]\n",
      " [ 20  42]]\n"
     ]
    }
   ],
   "source": [
    "from sklearn.metrics import confusion_matrix\n",
    "confusion_matrix = confusion_matrix(y_test, predictions)\n",
    "print(confusion_matrix)"
   ]
  },
  {
   "cell_type": "code",
   "execution_count": 133,
   "metadata": {},
   "outputs": [],
   "source": [
    "#Hmmm, so our accuracy and our precision have decreased somewhat, \n",
    "#However, we are picking up more true positives and our recall has improved after using SMOTE, without too much decrease in F1 score"
   ]
  },
  {
   "cell_type": "code",
   "execution_count": 134,
   "metadata": {},
   "outputs": [
    {
     "name": "stdout",
     "output_type": "stream",
     "text": [
      "Optimization terminated successfully.\n",
      "         Current function value: 0.479343\n",
      "         Iterations 7\n",
      "                         Results: Logit\n",
      "================================================================\n",
      "Model:              Logit            Pseudo R-squared: 0.308    \n",
      "Dependent Variable: Childlabour_06   AIC:              5924.5776\n",
      "Date:               2020-10-26 02:06 BIC:              6072.4529\n",
      "No. Observations:   6134             Log-Likelihood:   -2940.3  \n",
      "Df Model:           21               LL-Null:          -4251.8  \n",
      "Df Residuals:       6112             LLR p-value:      0.0000   \n",
      "Converged:          1.0000           Scale:            1.0000   \n",
      "No. Iterations:     7.0000                                      \n",
      "----------------------------------------------------------------\n",
      "                 Coef.  Std.Err.    z     P>|z|   [0.025  0.975]\n",
      "----------------------------------------------------------------\n",
      "femaleh         -0.6017   0.1706  -3.5275 0.0004 -0.9360 -0.2674\n",
      "hhsize           0.1131   0.0239   4.7231 0.0000  0.0662  0.1600\n",
      "f0t6            -2.5299   0.3939  -6.4225 0.0000 -3.3019 -1.7578\n",
      "m0t6            -3.4337   0.4032  -8.5154 0.0000 -4.2240 -2.6434\n",
      "f7t12            1.3994   0.3204   4.3681 0.0000  0.7715  2.0273\n",
      "m7t12            0.0133   0.3309   0.0402 0.9679 -0.6353  0.6619\n",
      "f13t15           3.3192   0.4305   7.7094 0.0000  2.4754  4.1631\n",
      "f16t18           2.4770   0.4154   5.9623 0.0000  1.6627  3.2912\n",
      "f19t60          -1.4762   0.2477  -5.9608 0.0000 -1.9616 -0.9908\n",
      "m13t15           4.4927   0.4545   9.8853 0.0000  3.6019  5.3834\n",
      "m16t18           6.1976   0.4664  13.2867 0.0000  5.2834  7.1118\n",
      "m19t60          -0.5744   0.2265  -2.5362 0.0112 -1.0183 -0.1305\n",
      "f61             -2.7504   0.4930  -5.5790 0.0000 -3.7166 -1.7841\n",
      "m61             -2.0182   0.4437  -4.5484 0.0000 -2.8878 -1.1485\n",
      "rural            0.4695   0.0749   6.2689 0.0000  0.3227  0.6162\n",
      "Low_education    0.6679   0.0773   8.6388 0.0000  0.5164  0.8195\n",
      "Low_income       0.0349   0.0996   0.3506 0.7259 -0.1602  0.2300\n",
      "Sumatra         -1.7546   0.1239 -14.1567 0.0000 -1.9975 -1.5117\n",
      "Java and Bali   -1.3368   0.1054 -12.6844 0.0000 -1.5433 -1.1302\n",
      "Kalimantan      -1.6201   0.1436 -11.2811 0.0000 -1.9016 -1.3386\n",
      "Sulawesi        -1.2398   0.1544  -8.0301 0.0000 -1.5424 -0.9372\n",
      "Childlabour_05   1.4474   0.1056  13.7040 0.0000  1.2404  1.6545\n",
      "================================================================\n",
      "\n"
     ]
    }
   ],
   "source": [
    "#Let's get a statistical summary of our logistic model\n",
    "import statsmodels.api as sm\n",
    "logit_model2=sm.Logit(y_train_os, X_train_os)\n",
    "result2=logit_model2.fit()\n",
    "print(result2.summary2())"
   ]
  },
  {
   "cell_type": "markdown",
   "metadata": {},
   "source": [
    "# 8. Combining SMOTE and repeated K-folds validation"
   ]
  },
  {
   "cell_type": "code",
   "execution_count": 135,
   "metadata": {},
   "outputs": [],
   "source": [
    "#So our minority over-sampling approach using SMOTE seemed to work well.\n",
    "#Now that we have balanced data, we can also be a bit more confident that any cross-validation will also likely work better\n",
    "#Let's see if we can't combine repeated kfolds validation and SMOTE to get a better model fitting process."
   ]
  },
  {
   "cell_type": "code",
   "execution_count": 136,
   "metadata": {},
   "outputs": [],
   "source": [
    "from sklearn.model_selection import RepeatedKFold\n",
    "from sklearn.model_selection import cross_val_score"
   ]
  },
  {
   "cell_type": "code",
   "execution_count": 137,
   "metadata": {},
   "outputs": [],
   "source": [
    "#We could simply load in our oversampled dataset created in Section 7 and then apply kfolds.\n",
    "#However, to avoid overfitting we want to split into training and testing folds. \n",
    "#and then on each fold we want to oversample, train classifier and then validate\n",
    "#Happily, we can actually create code that runs this all for us, using pipeline"
   ]
  },
  {
   "cell_type": "code",
   "execution_count": 138,
   "metadata": {},
   "outputs": [],
   "source": [
    "cv_os = KFold(n_splits=10, random_state=1, shuffle=True)"
   ]
  },
  {
   "cell_type": "code",
   "execution_count": 139,
   "metadata": {},
   "outputs": [],
   "source": [
    "from imblearn.pipeline import Pipeline, make_pipeline"
   ]
  },
  {
   "cell_type": "code",
   "execution_count": 140,
   "metadata": {},
   "outputs": [
    {
     "data": {
      "text/plain": [
       "array([0.55555556, 0.80952381, 0.57142857, 0.77777778, 0.82608696,\n",
       "       0.53846154, 0.71428571, 0.78947368, 0.63157895, 0.47058824])"
      ]
     },
     "execution_count": 140,
     "metadata": {},
     "output_type": "execute_result"
    }
   ],
   "source": [
    "imb_pipeline = make_pipeline(SMOTE(random_state=42), \n",
    "                              LogisticRegression(max_iter = 1000))\n",
    "cross_val_score(imb_pipeline, X_train, y_train, scoring='recall', cv=cv_os)"
   ]
  },
  {
   "cell_type": "code",
   "execution_count": 141,
   "metadata": {},
   "outputs": [],
   "source": [
    "result3=imb_pipeline.fit( X_train, y_train)"
   ]
  },
  {
   "cell_type": "code",
   "execution_count": 142,
   "metadata": {},
   "outputs": [],
   "source": [
    "y_test_os_predict=imb_pipeline.predict(X_test)\n"
   ]
  },
  {
   "cell_type": "code",
   "execution_count": 143,
   "metadata": {},
   "outputs": [],
   "source": [
    "y_os_kf_pred=pd.Series(y_test_os_predict)"
   ]
  },
  {
   "cell_type": "code",
   "execution_count": 144,
   "metadata": {},
   "outputs": [
    {
     "name": "stdout",
     "output_type": "stream",
     "text": [
      "              precision    recall  f1-score   support\n",
      "\n",
      "           0       0.98      0.78      0.87      1027\n",
      "           1       0.16      0.68      0.25        62\n",
      "\n",
      "    accuracy                           0.77      1089\n",
      "   macro avg       0.57      0.73      0.56      1089\n",
      "weighted avg       0.93      0.77      0.83      1089\n",
      "\n"
     ]
    }
   ],
   "source": [
    "print(classification_report(y_test, y_os_kf_pred))"
   ]
  },
  {
   "cell_type": "code",
   "execution_count": 145,
   "metadata": {},
   "outputs": [
    {
     "name": "stdout",
     "output_type": "stream",
     "text": [
      "[[801 226]\n",
      " [ 20  42]]\n"
     ]
    }
   ],
   "source": [
    "from sklearn.metrics import confusion_matrix\n",
    "confusion_matrix_hat = confusion_matrix(y_test, y_os_kf_pred)\n",
    "print(confusion_matrix_hat)"
   ]
  },
  {
   "cell_type": "code",
   "execution_count": 146,
   "metadata": {},
   "outputs": [
    {
     "ename": "AttributeError",
     "evalue": "'Pipeline' object has no attribute 'summary'",
     "output_type": "error",
     "traceback": [
      "\u001b[1;31m---------------------------------------------------------------------------\u001b[0m",
      "\u001b[1;31mAttributeError\u001b[0m                            Traceback (most recent call last)",
      "\u001b[1;32m<ipython-input-146-6f4dbaf4a25d>\u001b[0m in \u001b[0;36m<module>\u001b[1;34m\u001b[0m\n\u001b[1;32m----> 1\u001b[1;33m \u001b[0mprint\u001b[0m\u001b[1;33m(\u001b[0m\u001b[0mresult3\u001b[0m\u001b[1;33m.\u001b[0m\u001b[0msummary\u001b[0m\u001b[1;33m(\u001b[0m\u001b[1;33m)\u001b[0m\u001b[1;33m)\u001b[0m\u001b[1;33m\u001b[0m\u001b[1;33m\u001b[0m\u001b[0m\n\u001b[0m",
      "\u001b[1;31mAttributeError\u001b[0m: 'Pipeline' object has no attribute 'summary'"
     ]
    }
   ],
   "source": [
    "print(result3.summary())"
   ]
  },
  {
   "cell_type": "code",
   "execution_count": 147,
   "metadata": {},
   "outputs": [],
   "source": [
    "#-------------------------------------------------------------------------------------------------------\n",
    "#What happens if we just use cross-validation on previously created over-sampled datset?"
   ]
  },
  {
   "cell_type": "code",
   "execution_count": 148,
   "metadata": {},
   "outputs": [
    {
     "name": "stdout",
     "output_type": "stream",
     "text": [
      "Accuracy: 0.772 (0.014)\n"
     ]
    }
   ],
   "source": [
    "# prepare the cross-validation procedure\n",
    "hat2 = KFold(n_splits=10, random_state=1, shuffle=True)\n",
    "# evaluate model\n",
    "logreg=LogisticRegression(max_iter = 1000)\n",
    "scores_kfold = cross_val_score(logreg, X_train_os, y_train_os, scoring='accuracy', cv=hat2, n_jobs=-1)\n",
    "# report performance\n",
    "print('Accuracy: %.3f (%.3f)' % (mean(scores_kfold), std(scores_kfold)))"
   ]
  },
  {
   "cell_type": "code",
   "execution_count": 149,
   "metadata": {},
   "outputs": [
    {
     "data": {
      "text/plain": [
       "array([[1022,    5],\n",
       "       [  59,    3]], dtype=int64)"
      ]
     },
     "execution_count": 149,
     "metadata": {},
     "output_type": "execute_result"
    }
   ],
   "source": [
    "# \n",
    "y_pred_os = cross_val_predict(logreg, X_test, y_test, cv=cv, n_jobs=-1)\n",
    "conf_mat_hat2 = confusion_matrix(y_test, y_pred_os)\n",
    "conf_mat_hat2"
   ]
  },
  {
   "cell_type": "code",
   "execution_count": 150,
   "metadata": {},
   "outputs": [
    {
     "name": "stdout",
     "output_type": "stream",
     "text": [
      "              precision    recall  f1-score   support\n",
      "\n",
      "           0       0.95      1.00      0.97      1027\n",
      "           1       0.38      0.05      0.09        62\n",
      "\n",
      "    accuracy                           0.94      1089\n",
      "   macro avg       0.66      0.52      0.53      1089\n",
      "weighted avg       0.91      0.94      0.92      1089\n",
      "\n"
     ]
    }
   ],
   "source": [
    "# \n",
    "classification_report_hat2=classification_report(y_test, y_pred_os)\n",
    "print(classification_report_hat2)"
   ]
  },
  {
   "cell_type": "markdown",
   "metadata": {},
   "source": [
    "# 9. Feature Selection using Recursive Feature Elimination"
   ]
  },
  {
   "cell_type": "code",
   "execution_count": 151,
   "metadata": {},
   "outputs": [],
   "source": [
    "from sklearn.feature_selection import RFE\n",
    "from sklearn.feature_selection import RFECV"
   ]
  },
  {
   "cell_type": "code",
   "execution_count": 152,
   "metadata": {},
   "outputs": [],
   "source": [
    "logreg_rfe = LogisticRegression(max_iter = 1000)"
   ]
  },
  {
   "cell_type": "code",
   "execution_count": 153,
   "metadata": {},
   "outputs": [],
   "source": [
    "rfe = RFE(logreg_rfe, n_features_to_select=10)"
   ]
  },
  {
   "cell_type": "code",
   "execution_count": 154,
   "metadata": {},
   "outputs": [
    {
     "name": "stdout",
     "output_type": "stream",
     "text": [
      "[False False  True  True  True False  True False  True  True  True  True\n",
      "  True False False False False False False False False  True]\n",
      "[ 8 10  1  1  1  9  1  5  1  1  1  1  1  2  4  3 12  6  7 11 13  1]\n"
     ]
    }
   ],
   "source": [
    "rfe = rfe.fit(X_train, y_train.values.ravel())\n",
    "print(rfe.support_)\n",
    "print(rfe.ranking_)"
   ]
  },
  {
   "cell_type": "code",
   "execution_count": 155,
   "metadata": {},
   "outputs": [
    {
     "name": "stdout",
     "output_type": "stream",
     "text": [
      "Column: 0, Selected False, Rank: 8.000\n",
      "Column: 1, Selected False, Rank: 10.000\n",
      "Column: 2, Selected True, Rank: 1.000\n",
      "Column: 3, Selected True, Rank: 1.000\n",
      "Column: 4, Selected True, Rank: 1.000\n",
      "Column: 5, Selected False, Rank: 9.000\n",
      "Column: 6, Selected True, Rank: 1.000\n",
      "Column: 7, Selected False, Rank: 5.000\n",
      "Column: 8, Selected True, Rank: 1.000\n",
      "Column: 9, Selected True, Rank: 1.000\n",
      "Column: 10, Selected True, Rank: 1.000\n",
      "Column: 11, Selected True, Rank: 1.000\n",
      "Column: 12, Selected True, Rank: 1.000\n",
      "Column: 13, Selected False, Rank: 2.000\n",
      "Column: 14, Selected False, Rank: 4.000\n",
      "Column: 15, Selected False, Rank: 3.000\n",
      "Column: 16, Selected False, Rank: 12.000\n",
      "Column: 17, Selected False, Rank: 6.000\n",
      "Column: 18, Selected False, Rank: 7.000\n",
      "Column: 19, Selected False, Rank: 11.000\n",
      "Column: 20, Selected False, Rank: 13.000\n",
      "Column: 21, Selected True, Rank: 1.000\n"
     ]
    }
   ],
   "source": [
    "# summarize all features\n",
    "for i in range(X_train_os.shape[1]):\n",
    "    print('Column: %d, Selected %s, Rank: %.3f' % (i, rfe.support_[i], rfe.ranking_[i]))"
   ]
  },
  {
   "cell_type": "code",
   "execution_count": 156,
   "metadata": {},
   "outputs": [
    {
     "data": {
      "text/plain": [
       "pandas.core.frame.DataFrame"
      ]
     },
     "execution_count": 156,
     "metadata": {},
     "output_type": "execute_result"
    }
   ],
   "source": [
    "type(X_train_os)"
   ]
  },
  {
   "cell_type": "code",
   "execution_count": 157,
   "metadata": {},
   "outputs": [
    {
     "data": {
      "text/html": [
       "<div>\n",
       "<style scoped>\n",
       "    .dataframe tbody tr th:only-of-type {\n",
       "        vertical-align: middle;\n",
       "    }\n",
       "\n",
       "    .dataframe tbody tr th {\n",
       "        vertical-align: top;\n",
       "    }\n",
       "\n",
       "    .dataframe thead th {\n",
       "        text-align: right;\n",
       "    }\n",
       "</style>\n",
       "<table border=\"1\" class=\"dataframe\">\n",
       "  <thead>\n",
       "    <tr style=\"text-align: right;\">\n",
       "      <th></th>\n",
       "      <th>f0t6</th>\n",
       "      <th>m0t6</th>\n",
       "      <th>f7t12</th>\n",
       "      <th>f13t15</th>\n",
       "      <th>f19t60</th>\n",
       "      <th>m13t15</th>\n",
       "      <th>m16t18</th>\n",
       "      <th>m19t60</th>\n",
       "      <th>f61</th>\n",
       "      <th>Childlabour_05</th>\n",
       "    </tr>\n",
       "  </thead>\n",
       "  <tbody>\n",
       "    <tr>\n",
       "      <th>0</th>\n",
       "      <td>0.000000</td>\n",
       "      <td>0.0</td>\n",
       "      <td>0.0</td>\n",
       "      <td>0.0</td>\n",
       "      <td>0.250000</td>\n",
       "      <td>0.0</td>\n",
       "      <td>0.0</td>\n",
       "      <td>0.250000</td>\n",
       "      <td>0.0</td>\n",
       "      <td>0</td>\n",
       "    </tr>\n",
       "    <tr>\n",
       "      <th>1</th>\n",
       "      <td>0.000000</td>\n",
       "      <td>0.0</td>\n",
       "      <td>0.0</td>\n",
       "      <td>0.0</td>\n",
       "      <td>0.500000</td>\n",
       "      <td>0.0</td>\n",
       "      <td>0.0</td>\n",
       "      <td>0.500000</td>\n",
       "      <td>0.0</td>\n",
       "      <td>0</td>\n",
       "    </tr>\n",
       "    <tr>\n",
       "      <th>2</th>\n",
       "      <td>0.285714</td>\n",
       "      <td>0.0</td>\n",
       "      <td>0.0</td>\n",
       "      <td>0.0</td>\n",
       "      <td>0.285714</td>\n",
       "      <td>0.0</td>\n",
       "      <td>0.0</td>\n",
       "      <td>0.428571</td>\n",
       "      <td>0.0</td>\n",
       "      <td>0</td>\n",
       "    </tr>\n",
       "    <tr>\n",
       "      <th>3</th>\n",
       "      <td>0.000000</td>\n",
       "      <td>0.0</td>\n",
       "      <td>0.2</td>\n",
       "      <td>0.0</td>\n",
       "      <td>0.200000</td>\n",
       "      <td>0.0</td>\n",
       "      <td>0.2</td>\n",
       "      <td>0.200000</td>\n",
       "      <td>0.0</td>\n",
       "      <td>1</td>\n",
       "    </tr>\n",
       "    <tr>\n",
       "      <th>4</th>\n",
       "      <td>0.000000</td>\n",
       "      <td>0.0</td>\n",
       "      <td>0.0</td>\n",
       "      <td>0.2</td>\n",
       "      <td>0.200000</td>\n",
       "      <td>0.0</td>\n",
       "      <td>0.0</td>\n",
       "      <td>0.200000</td>\n",
       "      <td>0.0</td>\n",
       "      <td>0</td>\n",
       "    </tr>\n",
       "  </tbody>\n",
       "</table>\n",
       "</div>"
      ],
      "text/plain": [
       "       f0t6  m0t6  f7t12  f13t15    f19t60  m13t15  m16t18    m19t60  f61  \\\n",
       "0  0.000000   0.0    0.0     0.0  0.250000     0.0     0.0  0.250000  0.0   \n",
       "1  0.000000   0.0    0.0     0.0  0.500000     0.0     0.0  0.500000  0.0   \n",
       "2  0.285714   0.0    0.0     0.0  0.285714     0.0     0.0  0.428571  0.0   \n",
       "3  0.000000   0.0    0.2     0.0  0.200000     0.0     0.2  0.200000  0.0   \n",
       "4  0.000000   0.0    0.0     0.2  0.200000     0.0     0.0  0.200000  0.0   \n",
       "\n",
       "   Childlabour_05  \n",
       "0               0  \n",
       "1               0  \n",
       "2               0  \n",
       "3               1  \n",
       "4               0  "
      ]
     },
     "execution_count": 157,
     "metadata": {},
     "output_type": "execute_result"
    }
   ],
   "source": [
    "X_train_os.iloc[:, [2,3,4,6,8,9,10,11,12,21]].head()"
   ]
  },
  {
   "cell_type": "code",
   "execution_count": null,
   "metadata": {},
   "outputs": [],
   "source": []
  }
 ],
 "metadata": {
  "kernelspec": {
   "display_name": "Python [conda env:PythonAdv] *",
   "language": "python",
   "name": "conda-env-PythonAdv-py"
  },
  "language_info": {
   "codemirror_mode": {
    "name": "ipython",
    "version": 3
   },
   "file_extension": ".py",
   "mimetype": "text/x-python",
   "name": "python",
   "nbconvert_exporter": "python",
   "pygments_lexer": "ipython3",
   "version": "3.6.12"
  }
 },
 "nbformat": 4,
 "nbformat_minor": 4
}
